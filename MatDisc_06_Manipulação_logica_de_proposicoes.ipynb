{
 "cells": [
  {
   "cell_type": "markdown",
   "metadata": {
    "id": "sI4ev9W6m-e6"
   },
   "source": [
    "# Operadores de implicação e equivalência"
   ]
  },
  {
   "cell_type": "code",
   "execution_count": 1,
   "metadata": {
    "id": "UoHr9KHCkQBh"
   },
   "outputs": [],
   "source": [
    "def implica(p, q):\n",
    "    if p:\n",
    "        return q\n",
    "    else:\n",
    "        return True"
   ]
  },
  {
   "cell_type": "code",
   "execution_count": 3,
   "metadata": {},
   "outputs": [
    {
     "name": "stdout",
     "output_type": "stream",
     "text": [
      "True\n",
      "False\n",
      "True\n",
      "True\n"
     ]
    }
   ],
   "source": [
    "print(implica(True,  True))\n",
    "print(implica(True,  False))\n",
    "print(implica(False, True))\n",
    "print(implica(False, False))"
   ]
  },
  {
   "cell_type": "code",
   "execution_count": 5,
   "metadata": {
    "id": "DN3uny4QkSm3"
   },
   "outputs": [],
   "source": [
    "def equivale(p, q):\n",
    "    return p == q"
   ]
  },
  {
   "cell_type": "code",
   "execution_count": 6,
   "metadata": {},
   "outputs": [],
   "source": [
    "def xor(p, q):\n",
    "    return p != q"
   ]
  },
  {
   "cell_type": "code",
   "execution_count": 7,
   "metadata": {},
   "outputs": [
    {
     "name": "stdout",
     "output_type": "stream",
     "text": [
      "False\n",
      "True\n",
      "False\n",
      "False\n"
     ]
    }
   ],
   "source": [
    "#1 Defina uma função chamada prop_1 que implementa a proposiçao \n",
    "# p ⊕ (p ∧ q)  . Então calcule a tabela-verdade desta proposição, \n",
    "# chamando diversas vezes a função definida e imprimindo na tela um\n",
    "# valor de retorno por linha.\n",
    "\n",
    "def prop_1(p, q):\n",
    "    return xor( p , (p and q) )\n",
    "\n",
    "print(prop_1(True,  True))\n",
    "print(prop_1(True,  False))\n",
    "print(prop_1(False, True))\n",
    "print(prop_1(False, False))"
   ]
  },
  {
   "cell_type": "code",
   "execution_count": 8,
   "metadata": {},
   "outputs": [
    {
     "name": "stdout",
     "output_type": "stream",
     "text": [
      "False\n",
      "False\n",
      "True\n",
      "False\n"
     ]
    }
   ],
   "source": [
    "#2 Defina uma função chamada prop_2 que implementa a proposiçao\n",
    "# (p ∨ q) ↔ ¬p . Então calcule a tabela-verdade desta \n",
    "# proposição, chamando diversas vezes a função definida e \n",
    "# imprimindo na tela um valor de retorno por linha.\n",
    "\n",
    "def prop_2(p, q):\n",
    "    return equivale( (p or q) , not p )\n",
    "\n",
    "print(prop_2(True,  True))\n",
    "print(prop_2(True,  False))\n",
    "print(prop_2(False, True))\n",
    "print(prop_2(False, False))"
   ]
  },
  {
   "cell_type": "code",
   "execution_count": 9,
   "metadata": {},
   "outputs": [
    {
     "name": "stdout",
     "output_type": "stream",
     "text": [
      "tautologia\n"
     ]
    }
   ],
   "source": [
    "#3 Defina uma função chamada prop_3 que implementa a proposiçao\n",
    "# (p ∧ ¬q) → p . Então calcule a tabela-verdade desta proposição\n",
    "# (mas não imprima) para descobrir se é uma tautologia, uma\n",
    "# contradição ou nenhum dos dois. Apenas imprima uma destas \n",
    "# mensagens, nada mais.\n",
    "\n",
    "def prop_3(p, q):\n",
    "    return implica( (p and not q) , p )\n",
    "\n",
    "r1 = prop_3(True,  True)\n",
    "r2 = prop_3(True,  False)\n",
    "r3 = prop_3(False, True)\n",
    "r4 = prop_3(False, False)\n",
    "\n",
    "if r1 == True and r2 == True and r3 == True and r4 == True:\n",
    "    print('tautologia')\n",
    "elif r1 == False and r2 == False and r3 == False and r4 == False:\n",
    "    print('contradição')\n",
    "else:\n",
    "    print('nenhum dos dois')"
   ]
  },
  {
   "cell_type": "code",
   "execution_count": 10,
   "metadata": {},
   "outputs": [
    {
     "name": "stdout",
     "output_type": "stream",
     "text": [
      "nenhum dos dois\n"
     ]
    }
   ],
   "source": [
    "#4 (p ∧ ¬q) → (q  ∨ ¬p)\n",
    "\n",
    "def prop_4(p, q):\n",
    "    return implica( (p and not q) , (q or not p) )\n",
    "\n",
    "r1 = prop_4(True,  True)\n",
    "r2 = prop_4(True,  False)\n",
    "r3 = prop_4(False, True)\n",
    "r4 = prop_4(False, False)\n",
    "\n",
    "if r1 == True and r2 == True and r3 == True and r4 == True:\n",
    "    print('tautologia')\n",
    "elif r1 == False and r2 == False and r3 == False and r4 == False:\n",
    "    print('contradição')\n",
    "else:\n",
    "    print('nenhum dos dois')"
   ]
  },
  {
   "cell_type": "code",
   "execution_count": 11,
   "metadata": {},
   "outputs": [
    {
     "name": "stdout",
     "output_type": "stream",
     "text": [
      "sim\n"
     ]
    }
   ],
   "source": [
    "#5 Sejam as proposições A definida por p ∧ q e B definida \n",
    "# por p ∨ q . Implemente estas proposições como funções e\n",
    "# verifique se A implica logicamente B, imprimindo na saída\n",
    "# apenas as mensagens sim ou não\n",
    "\n",
    "def A(p, q):\n",
    "    return p and q\n",
    "\n",
    "def B(p, q):\n",
    "    return p or q\n",
    "\n",
    "def prop_5(p, q):\n",
    "    return implica( A(p,q) , B(p,q) )\n",
    "\n",
    "r1 = prop_5(True,  True)\n",
    "r2 = prop_5(True,  False)\n",
    "r3 = prop_5(False, True)\n",
    "r4 = prop_5(False, False)\n",
    "\n",
    "if r1 == True and r2 == True and r3 == True and r4 == True:\n",
    "    print('sim') # A implica logicamente em B\n",
    "else:\n",
    "    print('não')"
   ]
  },
  {
   "cell_type": "code",
   "execution_count": 13,
   "metadata": {},
   "outputs": [
    {
     "name": "stdout",
     "output_type": "stream",
     "text": [
      "não\n"
     ]
    }
   ],
   "source": [
    "# C definida por ((p → q) → r) e D definida por (p → (q → r))\n",
    "\n",
    "def C(p, q, r):\n",
    "    return implica( implica(p, q) , r )\n",
    "\n",
    "def D(p, q, r):\n",
    "    return implica( p, implica(q, r) )\n",
    "\n",
    "def prop_6(p, q, r):\n",
    "    return equivale( C(p,q,r) , D(p,q,r) )\n",
    "\n",
    "r1 = prop_6(True,  True,  True)\n",
    "r2 = prop_6(True,  True,  False)\n",
    "r3 = prop_6(True,  False, True)\n",
    "r4 = prop_6(True,  False, False)\n",
    "r5 = prop_6(False, True,  True)\n",
    "r6 = prop_6(False, True,  False)\n",
    "r7 = prop_6(False, False, True)\n",
    "r8 = prop_6(False, False, False)\n",
    "\n",
    "if r1 == True and r2 == True and r3 == True and r4 == True and \\\n",
    "   r5 == True and r6 == True and r7 == True and r8 == True:\n",
    "    print('sim') # A equivale logicamente em B\n",
    "else:\n",
    "    print('não')\n"
   ]
  },
  {
   "cell_type": "code",
   "execution_count": null,
   "metadata": {},
   "outputs": [],
   "source": []
  },
  {
   "cell_type": "code",
   "execution_count": null,
   "metadata": {},
   "outputs": [],
   "source": []
  },
  {
   "cell_type": "code",
   "execution_count": null,
   "metadata": {},
   "outputs": [],
   "source": []
  },
  {
   "cell_type": "code",
   "execution_count": null,
   "metadata": {},
   "outputs": [],
   "source": []
  },
  {
   "cell_type": "code",
   "execution_count": null,
   "metadata": {},
   "outputs": [],
   "source": []
  },
  {
   "cell_type": "markdown",
   "metadata": {
    "id": "uWE43Xi2Qr2i"
   },
   "source": [
    "## Operador \"ou exclusivo\"\n",
    "\n",
    "- ou exclusico é conhecido como `xor` e representado por $\\oplus$"
   ]
  },
  {
   "cell_type": "code",
   "execution_count": null,
   "metadata": {
    "id": "cCe0lQQ_5lUH"
   },
   "outputs": [],
   "source": [
    "def xor(p, q):\n",
    "    return p != q"
   ]
  },
  {
   "cell_type": "code",
   "execution_count": null,
   "metadata": {
    "colab": {
     "base_uri": "https://localhost:8080/"
    },
    "id": "uwSLVbr35lSu",
    "outputId": "827aef6b-31af-469b-f406-9581fd463817"
   },
   "outputs": [
    {
     "name": "stdout",
     "output_type": "stream",
     "text": [
      "False\n",
      "True\n",
      "True\n",
      "False\n"
     ]
    }
   ],
   "source": [
    "# tabela verdade do \"ou exclusivo\"\n",
    "print(xor(True, True))\n",
    "print(xor(True, False))\n",
    "print(xor(False, True))\n",
    "print(xor(False, False))"
   ]
  },
  {
   "cell_type": "markdown",
   "metadata": {
    "id": "2ZLQQfjGlsGE"
   },
   "source": [
    "# Geração de tabelas verdade"
   ]
  },
  {
   "cell_type": "code",
   "execution_count": null,
   "metadata": {
    "id": "Y4ZAXEGcnEyn"
   },
   "outputs": [],
   "source": [
    "import itertools as it"
   ]
  },
  {
   "cell_type": "code",
   "execution_count": null,
   "metadata": {
    "colab": {
     "base_uri": "https://localhost:8080/"
    },
    "id": "9tz4QyCtqNK5",
    "outputId": "ad314eca-eba0-4221-aebd-7f8043864338"
   },
   "outputs": [
    {
     "name": "stdout",
     "output_type": "stream",
     "text": [
      "True   resultado: False\n",
      "False  resultado: True \n"
     ]
    }
   ],
   "source": [
    "# para uma variável lógica \"p\"\n",
    "for p, in it.product((True, False), repeat=1):\n",
    "    print('{!s:5}  resultado: {!s:5}'.format(p, not p))"
   ]
  },
  {
   "cell_type": "code",
   "execution_count": null,
   "metadata": {
    "colab": {
     "base_uri": "https://localhost:8080/"
    },
    "id": "zvoJcdQdlsUp",
    "outputId": "d4eb4e82-d0d8-40ce-a3f9-8d021ccfded3"
   },
   "outputs": [
    {
     "name": "stdout",
     "output_type": "stream",
     "text": [
      "True   True   resultado: True \n",
      "True   False  resultado: True \n",
      "False  True   resultado: True \n",
      "False  False  resultado: False\n"
     ]
    }
   ],
   "source": [
    "# para duas variáveis lógicas \"p\" e \"q\"\n",
    "for p, q in it.product((True, False), repeat=2):\n",
    "    print('{!s:5}  {!s:5}  resultado: {!s:5}'.format(p, q, p or q))"
   ]
  },
  {
   "cell_type": "code",
   "execution_count": null,
   "metadata": {
    "colab": {
     "base_uri": "https://localhost:8080/"
    },
    "id": "M8-6raCiqVFw",
    "outputId": "5b411611-0dd5-4944-e004-5d06bc0c7e15"
   },
   "outputs": [
    {
     "name": "stdout",
     "output_type": "stream",
     "text": [
      "True   True   True   resultado: True \n",
      "True   True   False  resultado: True \n",
      "True   False  True   resultado: False\n",
      "True   False  False  resultado: True \n",
      "False  True   True   resultado: False\n",
      "False  True   False  resultado: True \n",
      "False  False  True   resultado: False\n",
      "False  False  False  resultado: True \n"
     ]
    }
   ],
   "source": [
    "# para três variáveis lógicas \"p\", \"q\" e \"r\"\n",
    "for p, q, r in it.product((True, False), repeat=3):\n",
    "    print('{!s:5}  {!s:5}  {!s:5}  resultado: {!s:5}'.format(p, q, r, p and q or not r))"
   ]
  },
  {
   "cell_type": "markdown",
   "metadata": {
    "id": "2y7AmTS5lfij"
   },
   "source": [
    "# Exemplos\n",
    "\n",
    "Verificar que **p ∧ (p ∧ q)** e **p ∧ q** são sempre iguais"
   ]
  },
  {
   "cell_type": "code",
   "execution_count": null,
   "metadata": {
    "colab": {
     "base_uri": "https://localhost:8080/"
    },
    "id": "NQ-IF8tDlgBs",
    "outputId": "2ab6ab5a-8a7d-48b4-8139-d10df7c1fec9"
   },
   "outputs": [
    {
     "name": "stdout",
     "output_type": "stream",
     "text": [
      "True   True   resultado: True \n",
      "True   False  resultado: False\n",
      "False  True   resultado: False\n",
      "False  False  resultado: False\n"
     ]
    }
   ],
   "source": [
    "for p, q in it.product((True, False), repeat=2):\n",
    "    print('{!s:5}  {!s:5}  resultado: {!s:5}'.format(p, q, p and (p and q)))"
   ]
  },
  {
   "cell_type": "code",
   "execution_count": null,
   "metadata": {
    "colab": {
     "base_uri": "https://localhost:8080/"
    },
    "id": "ZNMuZnM942TJ",
    "outputId": "ad331ce6-321b-49a1-dcc1-6de9a6720f51"
   },
   "outputs": [
    {
     "name": "stdout",
     "output_type": "stream",
     "text": [
      "True   True   resultado: True \n",
      "True   False  resultado: False\n",
      "False  True   resultado: False\n",
      "False  False  resultado: False\n"
     ]
    }
   ],
   "source": [
    "for p, q in it.product((True, False), repeat=2):\n",
    "    print('{!s:5}  {!s:5}  resultado: {!s:5}'.format(p, q, p and q))"
   ]
  },
  {
   "cell_type": "markdown",
   "metadata": {
    "id": "bkGHcMYnoyJh"
   },
   "source": [
    "Verificar que **p ∨ (¬p)** é uma tautologia"
   ]
  },
  {
   "cell_type": "code",
   "execution_count": null,
   "metadata": {
    "colab": {
     "base_uri": "https://localhost:8080/"
    },
    "id": "fAxxaIM5oyhj",
    "outputId": "d0753161-af84-49ed-f840-4ad8f25cb1d8"
   },
   "outputs": [
    {
     "name": "stdout",
     "output_type": "stream",
     "text": [
      "True   resultado: True \n",
      "False  resultado: True \n"
     ]
    }
   ],
   "source": [
    "for p, in it.product((True, False), repeat=1):\n",
    "    print('{!s:5}  resultado: {!s:5}'.format(p, p or (not p)))"
   ]
  },
  {
   "cell_type": "markdown",
   "metadata": {
    "id": "xtvGKtBno6k3"
   },
   "source": [
    "Verificar que **p ∧ (¬p)** é uma contradição"
   ]
  },
  {
   "cell_type": "code",
   "execution_count": null,
   "metadata": {
    "colab": {
     "base_uri": "https://localhost:8080/"
    },
    "id": "_upsoGU3o64d",
    "outputId": "0b41009d-a237-48a3-9d39-349954ff1ede"
   },
   "outputs": [
    {
     "name": "stdout",
     "output_type": "stream",
     "text": [
      "True   resultado: False\n",
      "False  resultado: False\n"
     ]
    }
   ],
   "source": [
    "for p, in it.product((True, False), repeat=1):\n",
    "    print('{!s:5}  resultado: {!s:5}'.format(p, p and (not p)))"
   ]
  },
  {
   "cell_type": "markdown",
   "metadata": {
    "id": "Ox-Wg9AxQ4SE"
   },
   "source": [
    "# Exercício\n",
    "\n",
    "Quais são tautologias, contradições ou nenhum dos dois?\n"
   ]
  },
  {
   "cell_type": "code",
   "execution_count": null,
   "metadata": {
    "colab": {
     "base_uri": "https://localhost:8080/"
    },
    "id": "65SXG-2iAxtV",
    "outputId": "a0702d66-f79c-4658-ff3f-53e1a0e4ba21"
   },
   "outputs": [
    {
     "name": "stdout",
     "output_type": "stream",
     "text": [
      "True   resultado: True \n",
      "False  resultado: False\n"
     ]
    }
   ],
   "source": [
    "# a.  ¬p → p\n",
    "def prop_a(p):\n",
    "    return implica(not p, p)\n",
    "\n",
    "# Resposta: nenhum dos dois\n",
    "for p, in it.product((True, False), repeat=1):\n",
    "    print('{!s:5}  resultado: {!s:5}'.format(p, prop_a(p) ))"
   ]
  },
  {
   "cell_type": "code",
   "execution_count": null,
   "metadata": {
    "colab": {
     "base_uri": "https://localhost:8080/"
    },
    "id": "BDvzH3DkBJVd",
    "outputId": "891bf92f-be19-405c-95cc-ac7707c0439a"
   },
   "outputs": [
    {
     "name": "stdout",
     "output_type": "stream",
     "text": [
      "True   resultado: False\n",
      "False  resultado: False\n"
     ]
    }
   ],
   "source": [
    "# b.  ¬p ↔ p\n",
    "def prop_b(p):\n",
    "    return equivale(not p, p)\n",
    "\n",
    "# Resposta: contradição\n",
    "for p, in it.product((True, False), repeat=1):\n",
    "    print('{!s:5}  resultado: {!s:5}'.format(p, prop_b(p) ))"
   ]
  },
  {
   "cell_type": "code",
   "execution_count": null,
   "metadata": {
    "colab": {
     "base_uri": "https://localhost:8080/"
    },
    "id": "zVhtQB_HBJTS",
    "outputId": "ccdb0ff8-89c2-4982-a930-7593ee3335ed"
   },
   "outputs": [
    {
     "name": "stdout",
     "output_type": "stream",
     "text": [
      "True   True   resultado: True \n",
      "True   False  resultado: True \n",
      "False  True   resultado: True \n",
      "False  False  resultado: True \n"
     ]
    }
   ],
   "source": [
    "# c. (p ∧ ¬p) → q\n",
    "def prop_c(p, q):\n",
    "    return implica(p and not p, q)\n",
    "\n",
    "# Resposta: tautologia\n",
    "for p, q in it.product((True, False), repeat=2):\n",
    "    print('{!s:5}  {!s:5}  resultado: {!s:5}'.format(p, q, prop_c(p, q) ))"
   ]
  },
  {
   "cell_type": "code",
   "execution_count": null,
   "metadata": {
    "colab": {
     "base_uri": "https://localhost:8080/"
    },
    "id": "p4K9zEAjBJRI",
    "outputId": "ba172443-4279-4dc0-dad6-a27c2e733deb"
   },
   "outputs": [
    {
     "name": "stdout",
     "output_type": "stream",
     "text": [
      "True   True   resultado: False\n",
      "True   False  resultado: False\n",
      "False  True   resultado: False\n",
      "False  False  resultado: False\n"
     ]
    }
   ],
   "source": [
    "# d. ((p ⊕ q) ⊕ (q ⊕ p))\n",
    "def prop_d(p, q):\n",
    "    return xor(xor(p, q), xor(q, p))\n",
    "\n",
    "# Resposta: contradição\n",
    "for p, q in it.product((True, False), repeat=2):\n",
    "    print('{!s:5}  {!s:5}  resultado: {!s:5}'.format(p, q, prop_d(p, q) ))"
   ]
  },
  {
   "cell_type": "markdown",
   "metadata": {
    "id": "3OtJvCGdSqIz"
   },
   "source": [
    "# Exemplo de equivalência lógica\n",
    "\n",
    "p ↔ q é logicamente equivalente a (p → q) ∧ (q → p) ?"
   ]
  },
  {
   "cell_type": "code",
   "execution_count": null,
   "metadata": {
    "colab": {
     "base_uri": "https://localhost:8080/"
    },
    "id": "FqwhI6xZBJNZ",
    "outputId": "157d5cf2-dd61-4345-d680-56f20cc55aa3"
   },
   "outputs": [
    {
     "name": "stdout",
     "output_type": "stream",
     "text": [
      "True   True   resultado: True \n",
      "True   False  resultado: False\n",
      "False  True   resultado: False\n",
      "False  False  resultado: True \n"
     ]
    }
   ],
   "source": [
    "def a(p, q):\n",
    "    return equivale(p, q)\n",
    "\n",
    "for p, q in it.product((True, False), repeat=2):\n",
    "    print('{!s:5}  {!s:5}  resultado: {!s:5}'.format(p, q, a(p, q)))"
   ]
  },
  {
   "cell_type": "code",
   "execution_count": null,
   "metadata": {
    "colab": {
     "base_uri": "https://localhost:8080/"
    },
    "id": "1T-IVVyTBJKO",
    "outputId": "0e053598-b2bd-442e-b58c-504ca6e6cbe7"
   },
   "outputs": [
    {
     "name": "stdout",
     "output_type": "stream",
     "text": [
      "True   True   resultado: True \n",
      "True   False  resultado: False\n",
      "False  True   resultado: False\n",
      "False  False  resultado: True \n"
     ]
    }
   ],
   "source": [
    "def b(p, q):\n",
    "    return implica(p, q) and implica(q, p)\n",
    "\n",
    "for p, q in it.product((True, False), repeat=2):\n",
    "    print('{!s:5}  {!s:5}  resultado: {!s:5}'.format(p, q, b(p, q)))"
   ]
  },
  {
   "cell_type": "code",
   "execution_count": null,
   "metadata": {
    "colab": {
     "base_uri": "https://localhost:8080/"
    },
    "id": "p0hxrzlbDU52",
    "outputId": "e5da7ba8-9e26-4b1d-e5fd-f350e01e8625"
   },
   "outputs": [
    {
     "name": "stdout",
     "output_type": "stream",
     "text": [
      "True   True   resultado: True \n",
      "True   False  resultado: True \n",
      "False  True   resultado: True \n",
      "False  False  resultado: True \n"
     ]
    }
   ],
   "source": [
    "# Comparando visualmente as duas tabelas verdade, podemos responder que sim, são logicamente equivalentes\n",
    "\n",
    "# Alternativamente, podemos criar uma nova proposição a ↔ b e verificar se esta é uma tautologia\n",
    "for p, q in it.product((True, False), repeat=2):\n",
    "    print('{!s:5}  {!s:5}  resultado: {!s:5}'.format(p, q, equivale(a(p, q), b(p, q))))"
   ]
  },
  {
   "cell_type": "markdown",
   "metadata": {
    "id": "GRJworjuGq5F"
   },
   "source": [
    "# Exercícios"
   ]
  },
  {
   "cell_type": "code",
   "execution_count": null,
   "metadata": {
    "colab": {
     "base_uri": "https://localhost:8080/"
    },
    "id": "eeqk6IdUDU3Y",
    "outputId": "f550c54f-614b-4731-ee3e-03a2785b9cfc"
   },
   "outputs": [
    {
     "name": "stdout",
     "output_type": "stream",
     "text": [
      "True   True   resultado: False\n",
      "True   False  resultado: True \n",
      "False  True   resultado: True \n",
      "False  False  resultado: True \n"
     ]
    }
   ],
   "source": [
    "# Pergunta: (¬p ∧ (p ∨ q)) é logicamente equivalente a q ?\n",
    "\n",
    "def a(p, q):\n",
    "    return not p and (p or q)\n",
    "\n",
    "def b(p, q):\n",
    "    return q\n",
    "\n",
    "# Resposta: não é verdade, as proposições NÃO são logicamente equivalentes,\n",
    "# pois a proposição a ↔ b não é uma tautologia\n",
    "for p, q in it.product((True, False), repeat=2):\n",
    "    print('{!s:5}  {!s:5}  resultado: {!s:5}'.format(p, q, equivale(a(p, q), b(p, q))))"
   ]
  },
  {
   "cell_type": "code",
   "execution_count": null,
   "metadata": {
    "colab": {
     "base_uri": "https://localhost:8080/"
    },
    "id": "ltmFWA4NGvRi",
    "outputId": "630fa027-9811-4fbf-b462-aa0d367dfc56"
   },
   "outputs": [
    {
     "name": "stdout",
     "output_type": "stream",
     "text": [
      "True   True   True   resultado: True \n",
      "True   True   False  resultado: True \n",
      "True   False  True   resultado: True \n",
      "True   False  False  resultado: True \n",
      "False  True   True   resultado: True \n",
      "False  True   False  resultado: True \n",
      "False  False  True   resultado: True \n",
      "False  False  False  resultado: True \n"
     ]
    }
   ],
   "source": [
    "# Pergunta: (p ∨ q) ∧ (¬p ∨ r) implica logicamente em (q ∨ r) ?\n",
    "\n",
    "def a(p, q, r):\n",
    "    return (p or q) and (not p or r)\n",
    "\n",
    "def b(p, q, r):\n",
    "    return q or r\n",
    "\n",
    "# Resposta: sim, a primeira proposição implica logicamente na segunda,\n",
    "# pois a proposição a → b é uma tautologia\n",
    "for p, q, r in it.product((True, False), repeat=3):\n",
    "    print('{!s:5}  {!s:5}  {!s:5}  resultado: {!s:5}'.format(p, q, r, implica(a(p, q, r), b(p, q, r))))"
   ]
  }
 ],
 "metadata": {
  "colab": {
   "collapsed_sections": [],
   "name": "Furg - MatDisc 10 - Manipulação lógica de proposições",
   "provenance": []
  },
  "kernelspec": {
   "display_name": "Python 3 (ipykernel)",
   "language": "python",
   "name": "python3"
  },
  "language_info": {
   "codemirror_mode": {
    "name": "ipython",
    "version": 3
   },
   "file_extension": ".py",
   "mimetype": "text/x-python",
   "name": "python",
   "nbconvert_exporter": "python",
   "pygments_lexer": "ipython3",
   "version": "3.11.8"
  }
 },
 "nbformat": 4,
 "nbformat_minor": 4
}
