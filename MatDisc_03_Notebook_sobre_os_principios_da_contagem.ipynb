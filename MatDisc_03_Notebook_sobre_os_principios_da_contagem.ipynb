{
 "cells": [
  {
   "cell_type": "markdown",
   "metadata": {
    "id": "f2MGpk7TFpyL"
   },
   "source": [
    "# Inicialização"
   ]
  },
  {
   "cell_type": "code",
   "execution_count": null,
   "metadata": {
    "id": "qPequ2DC5lI4"
   },
   "outputs": [],
   "source": [
    "import itertools as it"
   ]
  },
  {
   "cell_type": "markdown",
   "metadata": {
    "id": "b24WkgbNPvOL"
   },
   "source": [
    "# Princípio da casa dos pombos"
   ]
  },
  {
   "cell_type": "code",
   "execution_count": null,
   "metadata": {
    "id": "vn9_z6wHwEFV"
   },
   "outputs": [],
   "source": [
    "# uso das funções matemáticas\n",
    "import math"
   ]
  },
  {
   "cell_type": "code",
   "execution_count": null,
   "metadata": {
    "colab": {
     "base_uri": "https://localhost:8080/"
    },
    "id": "5lOHFx8rwEDH",
    "outputId": "d79f1bc2-3fa4-4bbb-efd3-a526f772cf4b"
   },
   "outputs": [
    {
     "data": {
      "text/plain": [
       "8.333333333333334"
      ]
     },
     "execution_count": 16,
     "metadata": {},
     "output_type": "execute_result"
    }
   ],
   "source": [
    "# divisão normal: resulta em um valor real (float)\n",
    "100/12"
   ]
  },
  {
   "cell_type": "code",
   "execution_count": null,
   "metadata": {
    "colab": {
     "base_uri": "https://localhost:8080/"
    },
    "id": "SYmcCRarwEA1",
    "outputId": "d0777e27-5aa9-4d75-b074-fccd0674593f"
   },
   "outputs": [
    {
     "data": {
      "text/plain": [
       "8"
      ]
     },
     "execution_count": 17,
     "metadata": {},
     "output_type": "execute_result"
    }
   ],
   "source": [
    "# divisão inteira: resulta em um valor inteiro (int)\n",
    "100//12"
   ]
  },
  {
   "cell_type": "code",
   "execution_count": null,
   "metadata": {
    "colab": {
     "base_uri": "https://localhost:8080/"
    },
    "id": "AB6PCoGCwD-d",
    "outputId": "b52de729-b3b9-4e87-c2b2-75e724381345"
   },
   "outputs": [
    {
     "data": {
      "text/plain": [
       "9"
      ]
     },
     "execution_count": 18,
     "metadata": {},
     "output_type": "execute_result"
    }
   ],
   "source": [
    "# para usar o princípio da casa dos pombos, primeiro é feita a divisão, então\n",
    "# o resultado é arredondado para cima (função \"teto\" ou \"ceil\" em inglês)\n",
    "math.ceil(100/12)"
   ]
  },
  {
   "cell_type": "markdown",
   "metadata": {
    "id": "JfTDGAAPGF21"
   },
   "source": [
    "# Regra do produto\n",
    "\n",
    "- Contar todos os números no intervalo [10 até 99]"
   ]
  },
  {
   "cell_type": "code",
   "execution_count": null,
   "metadata": {
    "colab": {
     "base_uri": "https://localhost:8080/"
    },
    "id": "wd1piLJS5pnz",
    "outputId": "c5b20c9e-f578-4b82-cb22-ca1ddabd1f72"
   },
   "outputs": [
    {
     "name": "stdout",
     "output_type": "stream",
     "text": [
      "{1, 2, 3, 4, 5, 6, 7, 8, 9}\n",
      "{0, 1, 2, 3, 4, 5, 6, 7, 8, 9}\n"
     ]
    }
   ],
   "source": [
    "# um conjunto para cada dígito\n",
    "A = {i for i in range(1, 10)}\n",
    "B = {i for i in range(0, 10)}\n",
    "print(A)\n",
    "print(B)"
   ]
  },
  {
   "cell_type": "code",
   "execution_count": null,
   "metadata": {
    "colab": {
     "base_uri": "https://localhost:8080/"
    },
    "id": "1v8z5F6KLdMx",
    "outputId": "b2ade220-bb9c-4d93-baaf-47eabf2b01e5"
   },
   "outputs": [
    {
     "name": "stdout",
     "output_type": "stream",
     "text": [
      "90\n"
     ]
    }
   ],
   "source": [
    "# produto escalar para gerar todos os pares de dígitos: 90 sequências diferentes\n",
    "C = set(it.product(A, B))\n",
    "print(len(C))"
   ]
  },
  {
   "cell_type": "code",
   "execution_count": null,
   "metadata": {
    "colab": {
     "base_uri": "https://localhost:8080/"
    },
    "id": "lpQ0AlYOL42f",
    "outputId": "938d6e1d-5778-4e23-bf61-2b1ea85164ea"
   },
   "outputs": [
    {
     "name": "stdout",
     "output_type": "stream",
     "text": [
      "81\n"
     ]
    }
   ],
   "source": [
    "# filtragem do conjunto C, criando um novo conjunto D apenas com dígitos distintos\n",
    "D = {(a, b) for (a, b) in C if a != b}\n",
    "print(len(D))"
   ]
  },
  {
   "cell_type": "code",
   "execution_count": null,
   "metadata": {
    "colab": {
     "base_uri": "https://localhost:8080/"
    },
    "id": "LMcfdkk4L4z_",
    "outputId": "1f30d7c6-e62b-44c4-c4a4-880c55796397"
   },
   "outputs": [
    {
     "name": "stdout",
     "output_type": "stream",
     "text": [
      "41\n"
     ]
    }
   ],
   "source": [
    "# filtragem do conjunto C, criando E apenas com dígitos distintos e valores pares\n",
    "E = {(a, b) for (a, b) in C if a != b and b in {0, 2, 4, 6, 8}}\n",
    "print(len(E))"
   ]
  },
  {
   "cell_type": "markdown",
   "metadata": {
    "id": "r5mmRxijG046"
   },
   "source": [
    "# Princípio da subtração"
   ]
  },
  {
   "cell_type": "code",
   "execution_count": null,
   "metadata": {
    "colab": {
     "base_uri": "https://localhost:8080/"
    },
    "id": "8vtg2PQv8x5b",
    "outputId": "b1c5ac29-205e-4116-aee4-f80f3ae966d5"
   },
   "outputs": [
    {
     "data": {
      "text/plain": [
       "{(1, 1), (2, 2), (3, 3), (4, 4), (5, 5), (6, 6), (7, 7), (8, 8), (9, 9)}"
      ]
     },
     "execution_count": 6,
     "metadata": {},
     "output_type": "execute_result"
    }
   ],
   "source": [
    "# aqui criamos um conjunto com os valores que NÃO interessam\n",
    "F = {(i, i) for i in range(1, 10)}\n",
    "F"
   ]
  },
  {
   "cell_type": "code",
   "execution_count": null,
   "metadata": {
    "colab": {
     "base_uri": "https://localhost:8080/"
    },
    "id": "uASF3okwtC43",
    "outputId": "a47d97e4-8c85-4e69-9832-723a2c0e6b9e"
   },
   "outputs": [
    {
     "data": {
      "text/plain": [
       "{(1, 1), (2, 2), (3, 3), (4, 4), (5, 5), (6, 6), (7, 7), (8, 8), (9, 9)}"
      ]
     },
     "execution_count": 7,
     "metadata": {},
     "output_type": "execute_result"
    }
   ],
   "source": [
    "# uma outra forma de criar F é selecionar apenas os que NÃO interessam em C\n",
    "F = {(a, b) for (a, b) in C if a == b}\n",
    "F"
   ]
  },
  {
   "cell_type": "code",
   "execution_count": null,
   "metadata": {
    "colab": {
     "base_uri": "https://localhost:8080/"
    },
    "id": "X8HLv8ycs_Lo",
    "outputId": "fb554f3b-34c5-42b9-e1b7-1baa8fa88e38"
   },
   "outputs": [
    {
     "data": {
      "text/plain": [
       "81"
      ]
     },
     "execution_count": 8,
     "metadata": {},
     "output_type": "execute_result"
    }
   ],
   "source": [
    "# os valores que interessam são todos os possíveis (C) menos o que não interessam (F)\n",
    "len(C - F)"
   ]
  },
  {
   "cell_type": "markdown",
   "metadata": {
    "id": "grD3cqTtHTMN"
   },
   "source": [
    "# Princípio da inclusão e exclusão\n",
    "\n",
    "Quantas são as sequências de oito bits que começam com 1 **ou** terminam com 00?"
   ]
  },
  {
   "cell_type": "code",
   "execution_count": null,
   "metadata": {
    "id": "0nlZEDUiwEUN"
   },
   "outputs": [],
   "source": [
    "# conjunto para um único dígito binário (bit)\n",
    "X = {0, 1}"
   ]
  },
  {
   "cell_type": "code",
   "execution_count": null,
   "metadata": {
    "colab": {
     "base_uri": "https://localhost:8080/"
    },
    "id": "xY23Y79OwESI",
    "outputId": "91fea96d-cdfd-45fa-bc52-d654584d82bc"
   },
   "outputs": [
    {
     "data": {
      "text/plain": [
       "256"
      ]
     },
     "execution_count": 10,
     "metadata": {},
     "output_type": "execute_result"
    }
   ],
   "source": [
    "# todos os possíveis bytes (oito bits, usando o recurso de repetição do produto escalar)\n",
    "Y = set(it.product(X, repeat=8))\n",
    "len(Y)"
   ]
  },
  {
   "cell_type": "code",
   "execution_count": null,
   "metadata": {
    "colab": {
     "base_uri": "https://localhost:8080/"
    },
    "id": "7PUrOh6QwEPz",
    "outputId": "92da95c5-92b0-4e5d-8217-5295f3ef06f7"
   },
   "outputs": [
    {
     "data": {
      "text/plain": [
       "128"
      ]
     },
     "execution_count": 11,
     "metadata": {},
     "output_type": "execute_result"
    }
   ],
   "source": [
    "# todos os bytes que começam com o bit 1\n",
    "A = {(a, b, c, d, e, f, g, h) for (a, b, c, d, e, f, g, h) in Y if a == 1}\n",
    "len(A)"
   ]
  },
  {
   "cell_type": "code",
   "execution_count": null,
   "metadata": {
    "colab": {
     "base_uri": "https://localhost:8080/"
    },
    "id": "gtVdq1MEwEM5",
    "outputId": "b0d97eb4-c5de-432d-dbc3-2cbc70bebb62"
   },
   "outputs": [
    {
     "data": {
      "text/plain": [
       "64"
      ]
     },
     "execution_count": 12,
     "metadata": {},
     "output_type": "execute_result"
    }
   ],
   "source": [
    "# todos os bytes que terminam com os bits 00\n",
    "B = {(a, b, c, d, e, f, g, h) for (a, b, c, d, e, f, g, h) in Y if g == 0 and h == 0}\n",
    "len(B)"
   ]
  },
  {
   "cell_type": "code",
   "execution_count": null,
   "metadata": {
    "colab": {
     "base_uri": "https://localhost:8080/"
    },
    "id": "7IUJiS9gwEKg",
    "outputId": "1c1b4cc8-e379-44f0-8427-addcedc0adb5"
   },
   "outputs": [
    {
     "data": {
      "text/plain": [
       "32"
      ]
     },
     "execution_count": 13,
     "metadata": {},
     "output_type": "execute_result"
    }
   ],
   "source": [
    "# bytes compartilhados entre A e B (começam com 1 E terminam com 00)\n",
    "A & B\n",
    "len(A & B)"
   ]
  },
  {
   "cell_type": "code",
   "execution_count": null,
   "metadata": {
    "colab": {
     "base_uri": "https://localhost:8080/"
    },
    "id": "JI5xZ4ImwEHa",
    "outputId": "99b40368-2640-498a-edb0-a154695b47ee"
   },
   "outputs": [
    {
     "data": {
      "text/plain": [
       "160"
      ]
     },
     "execution_count": 14,
     "metadata": {},
     "output_type": "execute_result"
    }
   ],
   "source": [
    "# total de bytes que começam com 1 OU terminam com 00\n",
    "len(A) + len(B) - len(A & B)"
   ]
  }
 ],
 "metadata": {
  "colab": {
   "collapsed_sections": [],
   "name": "Furg - MatDisc 05 - Notebook sobre os princípios da contagem",
   "provenance": []
  },
  "kernelspec": {
   "display_name": "Python 3 (ipykernel)",
   "language": "python",
   "name": "python3"
  },
  "language_info": {
   "codemirror_mode": {
    "name": "ipython",
    "version": 3
   },
   "file_extension": ".py",
   "mimetype": "text/x-python",
   "name": "python",
   "nbconvert_exporter": "python",
   "pygments_lexer": "ipython3",
   "version": "3.11.8"
  }
 },
 "nbformat": 4,
 "nbformat_minor": 4
}
