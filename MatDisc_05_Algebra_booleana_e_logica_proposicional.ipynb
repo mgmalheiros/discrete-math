{
 "cells": [
  {
   "cell_type": "markdown",
   "metadata": {
    "id": "SgyG7zxA6R09"
   },
   "source": [
    "# Exemplo de expressões booleanas"
   ]
  },
  {
   "cell_type": "code",
   "execution_count": null,
   "metadata": {
    "colab": {
     "base_uri": "https://localhost:8080/"
    },
    "id": "-josKirwoMrU",
    "outputId": "658173f5-7a43-495b-80ea-42a3e93eba23"
   },
   "outputs": [
    {
     "name": "stdout",
     "output_type": "stream",
     "text": [
      "False\n",
      "False\n",
      "True\n",
      "True\n"
     ]
    }
   ],
   "source": [
    "print(not True)\n",
    "print(True and False)\n",
    "print(not (False or False))\n",
    "print((True or False) and (not (False and True)))"
   ]
  },
  {
   "cell_type": "markdown",
   "metadata": {
    "id": "tUkALXLy6h5v"
   },
   "source": [
    "# Exemplo de expressões booleanas usando operadores relacionais"
   ]
  },
  {
   "cell_type": "code",
   "execution_count": null,
   "metadata": {
    "colab": {
     "base_uri": "https://localhost:8080/"
    },
    "id": "7eJ8BvEPoU9v",
    "outputId": "6e643d50-bf71-4c71-9fd8-29e18a36f873"
   },
   "outputs": [
    {
     "name": "stdout",
     "output_type": "stream",
     "text": [
      "True\n",
      "False\n",
      "True\n",
      "True\n"
     ]
    }
   ],
   "source": [
    "print(2 * 4 != 13)\n",
    "print(6 - 3 / 2 >= 8)\n",
    "print((5 > 2) and (1 + 3 == 10 - 6))\n",
    "print((not False) or (3 <= 12 // 3))"
   ]
  },
  {
   "cell_type": "markdown",
   "metadata": {
    "id": "jLkx9atV656V"
   },
   "source": [
    "# Notação da lógica proposicional convertida para Python\n",
    "\n",
    "- `not` ou negação é $\\lnot$\n",
    "- `and` ou conjunção é $\\land$\n",
    "- `or` ou disjunção é $\\lor$"
   ]
  },
  {
   "cell_type": "code",
   "execution_count": null,
   "metadata": {
    "id": "uDMokna01NwT"
   },
   "outputs": [],
   "source": [
    "# as proposições abaixo precisam estar definidas como variáveis booleanas\n",
    "p = True\n",
    "q = False\n",
    "r = True\n",
    "s = False"
   ]
  },
  {
   "cell_type": "code",
   "execution_count": null,
   "metadata": {
    "colab": {
     "base_uri": "https://localhost:8080/"
    },
    "id": "7FE-BQjIoUe-",
    "outputId": "6434ddcd-ebce-4705-e647-7f6212e9db93"
   },
   "outputs": [
    {
     "data": {
      "text/plain": [
       "False"
      ]
     },
     "execution_count": 4,
     "metadata": {},
     "output_type": "execute_result"
    }
   ],
   "source": [
    "# ¬p\n",
    "not p"
   ]
  },
  {
   "cell_type": "code",
   "execution_count": null,
   "metadata": {
    "id": "P6RZAD8gptw-"
   },
   "outputs": [],
   "source": [
    "# p ∧ q\n",
    "p and q"
   ]
  },
  {
   "cell_type": "code",
   "execution_count": null,
   "metadata": {
    "colab": {
     "base_uri": "https://localhost:8080/"
    },
    "id": "Xtb2Jo3zptuU",
    "outputId": "48a785c8-5524-4007-bc18-e352034fcb96"
   },
   "outputs": [
    {
     "data": {
      "text/plain": [
       "True"
      ]
     },
     "execution_count": 6,
     "metadata": {},
     "output_type": "execute_result"
    }
   ],
   "source": [
    "# p ∨ q ∨ r\n",
    "p or q or r"
   ]
  },
  {
   "cell_type": "code",
   "execution_count": null,
   "metadata": {
    "colab": {
     "base_uri": "https://localhost:8080/"
    },
    "id": "9bhl3ZNMptrv",
    "outputId": "1f66519a-9b4b-4f1a-9243-558a498ddd1b"
   },
   "outputs": [
    {
     "data": {
      "text/plain": [
       "False"
      ]
     },
     "execution_count": 7,
     "metadata": {},
     "output_type": "execute_result"
    }
   ],
   "source": [
    "# (p ∨ q ∨ r) ∧ (p ∨ ¬q ∨ ¬s) ∧ (q ∨ ¬r ∨ s) ∧ (¬p ∨ r ∨ s)\n",
    "(p or q or r) and (p or not q or not s) and (q or not r or s) and (not p or r or s)"
   ]
  },
  {
   "cell_type": "markdown",
   "metadata": {
    "id": "ax-iH3zJ7LQq"
   },
   "source": [
    "# Operador de implicação\n",
    "\n",
    "- o operador de implicação é $\\rightarrow$\n",
    "- não existe em Python, por isso definimos uma nova função `implica`"
   ]
  },
  {
   "cell_type": "code",
   "execution_count": null,
   "metadata": {
    "id": "VhF-y-jjpth4"
   },
   "outputs": [],
   "source": [
    "def implica(p, q):\n",
    "    if p:\n",
    "        return q\n",
    "    else:\n",
    "        return True"
   ]
  },
  {
   "cell_type": "code",
   "execution_count": null,
   "metadata": {
    "colab": {
     "base_uri": "https://localhost:8080/"
    },
    "id": "kYTfeo8Lp5r3",
    "outputId": "58e6afeb-b167-4199-8dfc-cfa1d2580c48"
   },
   "outputs": [
    {
     "name": "stdout",
     "output_type": "stream",
     "text": [
      "True\n",
      "False\n",
      "True\n",
      "True\n"
     ]
    }
   ],
   "source": [
    "# tabela verdade da implicação\n",
    "print(implica(True, True))\n",
    "print(implica(True, False))\n",
    "print(implica(False, True))\n",
    "print(implica(False, False))"
   ]
  },
  {
   "cell_type": "markdown",
   "metadata": {
    "id": "NxcARsXO7ZXG"
   },
   "source": [
    "# Teste automatizado para gerar tabelas verdade"
   ]
  },
  {
   "cell_type": "code",
   "execution_count": null,
   "metadata": {
    "id": "XFFEKqx347Dj"
   },
   "outputs": [],
   "source": [
    "import itertools as it"
   ]
  },
  {
   "cell_type": "code",
   "execution_count": null,
   "metadata": {
    "colab": {
     "base_uri": "https://localhost:8080/"
    },
    "id": "XTquCwRIp8eo",
    "outputId": "3f94ee45-a7a9-4e47-ba4d-fac882998a78"
   },
   "outputs": [
    {
     "name": "stdout",
     "output_type": "stream",
     "text": [
      "True   True   implicação: True \n",
      "True   False  implicação: False\n",
      "False  True   implicação: True \n",
      "False  False  implicação: True \n"
     ]
    }
   ],
   "source": [
    "# implicação: p → q\n",
    "\n",
    "for p, q in it.product((True, False), repeat=2):\n",
    "    print('{!s:5}  {!s:5}  implicação: {!s:5}'.format(p, q, implica(p, q)))"
   ]
  },
  {
   "cell_type": "code",
   "execution_count": null,
   "metadata": {
    "colab": {
     "base_uri": "https://localhost:8080/"
    },
    "id": "ywFumwmgp8cm",
    "outputId": "60db1776-a9cc-4419-f8a4-5c874a6e6ad0"
   },
   "outputs": [
    {
     "name": "stdout",
     "output_type": "stream",
     "text": [
      "True   True   recíproca: True \n",
      "True   False  recíproca: True \n",
      "False  True   recíproca: False\n",
      "False  False  recíproca: True \n"
     ]
    }
   ],
   "source": [
    "# recíproca: q → p\n",
    "# os valores da implicação e da recíproca são independentes\n",
    "\n",
    "for p, q in it.product((True, False), repeat=2):\n",
    "    print('{!s:5}  {!s:5}  recíproca: {!s:5}'.format(p, q, implica(q, p)))"
   ]
  },
  {
   "cell_type": "code",
   "execution_count": null,
   "metadata": {
    "colab": {
     "base_uri": "https://localhost:8080/"
    },
    "id": "txsaK47-qHv_",
    "outputId": "88a9f946-93c0-4678-abe6-5be49e76ecc3"
   },
   "outputs": [
    {
     "name": "stdout",
     "output_type": "stream",
     "text": [
      "True   True   inversa: True \n",
      "True   False  inversa: True \n",
      "False  True   inversa: False\n",
      "False  False  inversa: True \n"
     ]
    }
   ],
   "source": [
    "# inversa: (¬p) → (¬q)\n",
    "# os valores da implicação e da inversa são independentes\n",
    "\n",
    "for p, q in it.product((True, False), repeat=2):\n",
    "    print('{!s:5}  {!s:5}  inversa: {!s:5}'.format(p, q, implica(not p, not q)))"
   ]
  },
  {
   "cell_type": "code",
   "execution_count": null,
   "metadata": {
    "colab": {
     "base_uri": "https://localhost:8080/"
    },
    "id": "wjYS4qK5qHto",
    "outputId": "3f645072-6dda-4b52-9a53-8aef96bd1cd6"
   },
   "outputs": [
    {
     "name": "stdout",
     "output_type": "stream",
     "text": [
      "True   True   contrapositiva: True \n",
      "True   False  contrapositiva: False\n",
      "False  True   contrapositiva: True \n",
      "False  False  contrapositiva: True \n"
     ]
    }
   ],
   "source": [
    "# contrapositiva: (¬q) → (¬p)\n",
    "# a implicação e a contrapositiva sempre têm o mesmo valor lógico\n",
    "\n",
    "for p, q in it.product((True, False), repeat=2):\n",
    "    print('{!s:5}  {!s:5}  contrapositiva: {!s:5}'.format(p, q, implica(not q, not p)))"
   ]
  },
  {
   "cell_type": "markdown",
   "metadata": {
    "id": "jqCqRVFG731u"
   },
   "source": [
    "# Operador de equivalência\n",
    "\n",
    "- o operador de equivalência é $\\leftrightarrow$\n",
    "- não existe em Python, por isso definimos uma nova função `equivale`"
   ]
  },
  {
   "cell_type": "code",
   "execution_count": null,
   "metadata": {
    "id": "c1xnB90mqTg_"
   },
   "outputs": [],
   "source": [
    "def equivale(p, q):\n",
    "    return p == q"
   ]
  },
  {
   "cell_type": "code",
   "execution_count": null,
   "metadata": {
    "colab": {
     "base_uri": "https://localhost:8080/"
    },
    "id": "xveuhiSZqTes",
    "outputId": "738727dd-18c7-47f9-ea5d-aa721ba11edf"
   },
   "outputs": [
    {
     "name": "stdout",
     "output_type": "stream",
     "text": [
      "True\n",
      "False\n",
      "False\n",
      "True\n"
     ]
    }
   ],
   "source": [
    "# tabela verdade da equivalência\n",
    "print(equivale(True, True))\n",
    "print(equivale(True, False))\n",
    "print(equivale(False, True))\n",
    "print(equivale(False, False))"
   ]
  },
  {
   "cell_type": "markdown",
   "metadata": {
    "id": "b9pp6iug8GPy"
   },
   "source": [
    "# Exercícios\n",
    "\n",
    "Construa a tabela verdade de cada uma das proposições:"
   ]
  },
  {
   "cell_type": "code",
   "execution_count": null,
   "metadata": {
    "colab": {
     "base_uri": "https://localhost:8080/"
    },
    "id": "GJh-L22uqjVX",
    "outputId": "4fd391ce-d212-4f9f-ff15-32ee9af5fe98"
   },
   "outputs": [
    {
     "name": "stdout",
     "output_type": "stream",
     "text": [
      "True   True   proposição: False\n",
      "True   False  proposição: False\n",
      "False  True   proposição: False\n",
      "False  False  proposição: True \n"
     ]
    }
   ],
   "source": [
    "# a) ¬(p ∨ q)\n",
    "\n",
    "def prop_a(p, q):\n",
    "    return not (p or q)\n",
    "\n",
    "for p, q in it.product((True, False), repeat=2):\n",
    "    print('{!s:5}  {!s:5}  proposição: {!s:5}'.format(p, q, prop_a(p, q)))"
   ]
  },
  {
   "cell_type": "code",
   "execution_count": null,
   "metadata": {
    "colab": {
     "base_uri": "https://localhost:8080/"
    },
    "id": "2tciBRXsqjS3",
    "outputId": "f7f7917f-34f7-4b8a-95f9-32272acf6f05"
   },
   "outputs": [
    {
     "name": "stdout",
     "output_type": "stream",
     "text": [
      "True   True   proposição: True \n",
      "True   False  proposição: True \n",
      "False  True   proposição: True \n",
      "False  False  proposição: True \n"
     ]
    }
   ],
   "source": [
    "# b) (p ∧ q) → (p ∨ q)\n",
    "\n",
    "def prop_b(p, q):\n",
    "    return implica(p and q, p or q)\n",
    "\n",
    "for p, q in it.product((True, False), repeat=2):\n",
    "    print('{!s:5}  {!s:5}  proposição: {!s:5}'.format(p, q, prop_b(p, q)))"
   ]
  },
  {
   "cell_type": "code",
   "execution_count": null,
   "metadata": {
    "colab": {
     "base_uri": "https://localhost:8080/"
    },
    "id": "mpzBk4cmqjQw",
    "outputId": "b128a69a-7c2a-4251-d5ca-9e48963fe4d1"
   },
   "outputs": [
    {
     "name": "stdout",
     "output_type": "stream",
     "text": [
      "True   True   proposição: True \n",
      "True   False  proposição: True \n",
      "False  True   proposição: False\n",
      "False  False  proposição: True \n"
     ]
    }
   ],
   "source": [
    "# c) (p → q) → (q → p)\n",
    "\n",
    "def prop_c(p, q):\n",
    "    return implica( implica(p,q) , implica(q,p) )\n",
    "\n",
    "for p, q in it.product((True, False), repeat=2):\n",
    "    print('{!s:5}  {!s:5}  proposição: {!s:5}'.format(p, q, prop_c(p, q)))"
   ]
  },
  {
   "cell_type": "code",
   "execution_count": null,
   "metadata": {
    "colab": {
     "base_uri": "https://localhost:8080/"
    },
    "id": "6-vpt6IR7INk",
    "outputId": "ba3f66fe-e5d4-487e-8db6-806e24b9011b"
   },
   "outputs": [
    {
     "name": "stdout",
     "output_type": "stream",
     "text": [
      "True   True   proposição: False\n",
      "True   False  proposição: False\n",
      "False  True   proposição: False\n",
      "False  False  proposição: True \n"
     ]
    }
   ],
   "source": [
    "# d) (q → ¬p) ↔ (p ↔ q)\n",
    "\n",
    "def prop_d(p, q):\n",
    "    return equivale( implica(q,not p) , equivale(p,q) )\n",
    "\n",
    "for p, q in it.product((True, False), repeat=2):\n",
    "    print('{!s:5}  {!s:5}  proposição: {!s:5}'.format(p, q, prop_d(p, q)))"
   ]
  }
 ],
 "metadata": {
  "colab": {
   "collapsed_sections": [],
   "name": "Furg - MatDisc 09 - Álgebra booleana e lógica proposicional",
   "provenance": []
  },
  "kernelspec": {
   "display_name": "Python 3 (ipykernel)",
   "language": "python",
   "name": "python3"
  },
  "language_info": {
   "codemirror_mode": {
    "name": "ipython",
    "version": 3
   },
   "file_extension": ".py",
   "mimetype": "text/x-python",
   "name": "python",
   "nbconvert_exporter": "python",
   "pygments_lexer": "ipython3",
   "version": "3.11.8"
  }
 },
 "nbformat": 4,
 "nbformat_minor": 4
}
