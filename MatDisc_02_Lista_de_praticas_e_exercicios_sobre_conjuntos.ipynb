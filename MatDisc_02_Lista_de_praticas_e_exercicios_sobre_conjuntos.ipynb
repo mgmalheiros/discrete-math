{
 "cells": [
  {
   "cell_type": "markdown",
   "metadata": {
    "id": "r0WpWpygRnTv"
   },
   "source": [
    "# Instruções\n",
    "\n",
    "- IMPORTANTE: primeiro clique no círculo preto com a seta branca abaixo.\n",
    "\n",
    "- Faça as atividades em sequência, escrevendo um trecho de código em cada célula para obter o resultado esperado.\n",
    "\n",
    "- Use **SHIFT + ENTER** para executar o código. O resultado será exibido logo abaixo.\n",
    "\n",
    "- Então valide o resultado com **SHIFT + ENTER** novamente, na célula que contém o comando **validar()**. Não remova ou altere esta linha."
   ]
  },
  {
   "cell_type": "code",
   "execution_count": null,
   "metadata": {
    "id": "GoSb_6yyujWG"
   },
   "outputs": [],
   "source": [
    "# Não se preocupe com este código. E nem faça alterações nele, por favor.\n",
    "\n",
    "import builtins\n",
    "import io\n",
    "\n",
    "from IPython.core.display import display, HTML\n",
    "\n",
    "# practice core v4\n",
    "\n",
    "_INPUT = []\n",
    "_PRINT = []\n",
    "\n",
    "def input(*args, **kwargs):\n",
    "    s = builtins.input(*args, **kwargs)\n",
    "    _INPUT.append(s)\n",
    "    return s\n",
    "\n",
    "def print(*args, **kwargs):\n",
    "    s = _sprint(*args, **kwargs)\n",
    "    _PRINT.append(s)\n",
    "    return builtins.print(s)\n",
    "\n",
    "def _sprint(*args, end='', **kwargs):\n",
    "    sio = io.StringIO()\n",
    "    builtins.print(*args, **kwargs, end=end, file=sio)\n",
    "    return sio.getvalue()\n",
    "\n",
    "def _correct(msg='Correto!'):\n",
    "    display(HTML(f'<p style=\"background-color: LawnGreen; padding: 8px 8px 8px 8px;\"><b>{msg}</b></p>'))\n",
    "\n",
    "def _incorrect(msg):\n",
    "    display(HTML(f'<p style=\"background-color: Tomato; padding: 8px 8px 8px 8px;\">{msg}</p>'))\n",
    "\n",
    "def _hint(msg):\n",
    "    display(HTML(f'<p style=\"background-color: LightBlue; padding: 8px 8px 8px 8px;\">{msg}</p>'))\n",
    "\n",
    "def _out(value): # expects a single value to be matched against the last cell result\n",
    "    if repr(_) == repr(value):\n",
    "        return 0\n",
    "\n",
    "    if _ == '':\n",
    "        _incorrect('Não houve resultado, verifique se você executou seu código com SHIFT+ENTER.')\n",
    "        return 1\n",
    "    \n",
    "    if type(_) != type(value):\n",
    "        if type(value) == int:\n",
    "            _hint('Dica: o resultado precisa ser do tipo inteiro.')\n",
    "        elif type(value) == float:\n",
    "            _hint('Dica: o resultado precisa ser do tipo real.')\n",
    "        elif type(value) == bool:\n",
    "            _hint('Dica: o resultado precisa ser do tipo lógico.')\n",
    "        elif type(value) == str:\n",
    "            _hint('Dica: o resultado precisa ser do tipo string.')\n",
    "        elif type(value) == list:\n",
    "            _hint('Dica: o resultado precisa ser do tipo lista.')\n",
    "        elif type(value) == set:\n",
    "            _hint('Dica: o resultado precisa ser do tipo conjunto.')\n",
    "        else:\n",
    "            _hint('Dica: o resultado precisa ser de outro tipo.')\n",
    "    _incorrect('Resultado incorreto, tente novamente.')\n",
    "    return 1\n",
    "\n",
    "def _src(*args): # expects a list of strings to be matched against the last cell executed\n",
    "    result = 0\n",
    "    for term in args:\n",
    "        if term not in _i:\n",
    "            _hint(f'Dica: verifique se você usou \"{term}\" no seu código.')\n",
    "            result = 1\n",
    "    return result\n",
    "\n",
    "def _inp(*args): # expects a list of strings to be matched against the read input\n",
    "    if repr(_INPUT) == repr(list(args)):\n",
    "        return 0\n",
    "\n",
    "    if len(_INPUT) == 0:\n",
    "        _incorrect('Não houve entrada, verifique se você usou o comando \"input()\" no seu código.')\n",
    "        return 1\n",
    "\n",
    "    if len(_INPUT) != len(args):\n",
    "        if len(args) == 1:\n",
    "            _hint('Dica: é esperada apenas 1 entrada do usuário.')\n",
    "        else:\n",
    "            _hint(f'Dica: são esperadas {len(args)} entradas do usuário.')\n",
    "    else:\n",
    "        _incorrect('Entrada com dados diferentes do que foi solicitado, tente novamente.')\n",
    "    return 1\n",
    "\n",
    "def _pri(*args): # expects a list of strings to be matched against the printed output\n",
    "    if repr(_PRINT) == repr(list(args)):\n",
    "        return 0\n",
    "\n",
    "    if len(_PRINT) == 0:\n",
    "        _incorrect('Não houve saída, verifique se você usou o comando \"print()\" em seu código.')\n",
    "        return 1\n",
    "\n",
    "    if len(_PRINT) != len(args):\n",
    "        if len(args) == 1:\n",
    "            _hint('Dica: é esperada apenas 1 linha de saída.')\n",
    "        else:\n",
    "            _hint(f'Dica: são esperadas {len(args)} linhas de saída.')\n",
    "    else:\n",
    "        _incorrect('Saída incorreta, tente novamente.')\n",
    "    return 1\n",
    "\n",
    "def _var(**kwargs): # expects a dictionary of variable names and their respective values\n",
    "    result = 0\n",
    "    for name, value in kwargs.items():\n",
    "        if name not in globals():\n",
    "            _hint(f'Dica: a variável \"{name}\" precisa ser declarada.')\n",
    "            result = 1\n",
    "            continue\n",
    "\n",
    "        if repr(globals()[name]) == repr(value):\n",
    "            continue # OK by now\n",
    "\n",
    "        if type(globals()[name]) != type(value):\n",
    "            if type(value) == int:\n",
    "                _hint(f'Dica: a variável \"{name}\" precisa ser do tipo inteiro.')\n",
    "            elif type(value) == float:\n",
    "                _hint(f'Dica: a variável \"{name}\" precisa ser do tipo real.')\n",
    "            elif type(value) == bool:\n",
    "                _hint(f'Dica: a variável \"{name}\" precisa ser do tipo lógico.')\n",
    "            elif type(value) == str:\n",
    "                _hint(f'Dica: a variável \"{name}\" precisa ser do tipo string.')\n",
    "            elif type(value) == list:\n",
    "                _hint(f'Dica: a variável \"{name}\" precisa ser do tipo lista.')\n",
    "            elif type(value) == set:\n",
    "                _hint(f'Dica: a variável \"{name}\" precisa ser do tipo conjunto.')\n",
    "            else:\n",
    "                _hint(f'Dica: a variável \"{name}\" precisa ser de outro tipo.')\n",
    "        else:\n",
    "            _incorrect(f'Resultado incorreto para a variável \"{name}\".')\n",
    "        result = 1\n",
    "\n",
    "    return result\n",
    "\n",
    "def _typ(**kwargs): # expects a dictionary of variable names and their respective types\n",
    "    result = 0\n",
    "    for name, typ in kwargs.items():\n",
    "        if name not in globals():\n",
    "            _hint(f'Dica: a variável \"{name}\" precisa ser declarada.')\n",
    "            result = 1\n",
    "            continue\n",
    "\n",
    "        if type(globals()[name]) == typ:\n",
    "            continue # OK by now\n",
    "\n",
    "        if typ == int:\n",
    "            _hint(f'Dica: a variável \"{name}\" precisa ser do tipo inteiro.')\n",
    "        elif typ == float:\n",
    "            _hint(f'Dica: a variável \"{name}\" precisa ser do tipo real.')\n",
    "        elif typ == bool:\n",
    "            _hint(f'Dica: a variável \"{name}\" precisa ser do tipo lógico.')\n",
    "        elif typ == str:\n",
    "            _hint(f'Dica: a variável \"{name}\" precisa ser do tipo string.')\n",
    "        elif typ == list:\n",
    "            _hint(f'Dica: a variável \"{name}\" precisa ser do tipo lista.')\n",
    "        elif typ == set:\n",
    "            _hint(f'Dica: a variável \"{name}\" precisa ser do tipo conjunto.')\n",
    "        else:\n",
    "            _hint(f'Dica: a variável \"{name}\" precisa ser de outro tipo.')\n",
    "        result = 1\n",
    "\n",
    "    return result\n",
    "\n",
    "def _def(function, *args): # expects a function name and optionally the parameter names\n",
    "    if function not in globals() or not callable(globals()[function]):\n",
    "        _hint(f'Dica: a função \"{function}\" precisa ser declarada.')\n",
    "        return 1\n",
    "    func = globals()[function]\n",
    "\n",
    "    if len(args) != func.__code__.co_argcount:\n",
    "        if len(args) == 0:\n",
    "            _hint(f'Dica: a função \"{function}\" não deve ter parâmetros.')\n",
    "        elif len(args) == 1:\n",
    "            _hint(f'Dica: a função \"{function}\" deve ter 1 parâmetro.')\n",
    "        else:\n",
    "            _hint(f'Dica: a função \"{function}\" deve ter {len(args)} parâmetros.')\n",
    "        return 1\n",
    "\n",
    "    result = 0\n",
    "    for name in args:\n",
    "        if name not in func.__code__.co_varnames:\n",
    "            _hint(f'Dica: o parâmetro \"{name}\" precisa ser declarado na função \"{function}\".')\n",
    "            result = 1\n",
    "\n",
    "    return result\n",
    "\n",
    "def _clear():\n",
    "    global _INPUT, _PRINT\n",
    "    _INPUT = []\n",
    "    _PRINT = []\n",
    "    for name in set(globals()) - _GLOBALS:\n",
    "        if not name.startswith('_'):\n",
    "            globals().pop(name)\n",
    "\n",
    "def validar(n=None):\n",
    "    if n == None:\n",
    "        _incorrect('O comando \"validar\" precisa indicar o número da atividade atual.')\n",
    "    else:\n",
    "        r = _test(n)\n",
    "        if r == 0:\n",
    "            _correct()\n",
    "        elif r == -1:\n",
    "            _incorrect('Número de atividade desconhecido.')\n",
    "    _clear()\n",
    "\n",
    "_GLOBALS = set(globals())\n",
    "_GLOBALS.add('_GLOBALS')\n",
    "_GLOBALS.add('_test')"
   ]
  },
  {
   "cell_type": "code",
   "execution_count": null,
   "metadata": {
    "id": "2mi_jwCBZSVh"
   },
   "outputs": [],
   "source": [
    "def _test(n):\n",
    "    if   n ==  1: return _var(A={0, 1, 2, 3, 4})\n",
    "    elif n ==  2: return _var(A={-1, 0, 1})\n",
    "    elif n ==  3: return _var(B={4, 5}) + _src('in') + _pri('True')\n",
    "    elif n ==  4: return _var(B={4, 5}) + _src('not in') + _pri('True')\n",
    "    elif n ==  5: return _var(C={6, 7, 8}, D={7, 6, 8}) + _src('==') + _pri('True')\n",
    "    elif n ==  6: return _var(E={4}, F={4, 5}) + _src('!=') + _pri('True')\n",
    "    elif n ==  7: return _var(A={1, 2}) + _src('>=') + _pri('True')\n",
    "    elif n ==  8: return _var(A={1, 2}, B={2}) + _src('> ') + _pri('True')\n",
    "    elif n ==  9: return _var(A={1, 2}, B={2}) + _src('<=') + _pri('True')\n",
    "    elif n == 10: return _var(A={1, 2}, B={2}) + _src('not', '<=') + _pri('True')\n",
    "    elif n == 11: return _var(V=set()) + _src('len', '==') + _pri('True')\n",
    "    elif n == 12: return _var(C={3, 4, 5}, D={5, 6}) + _src('|') + _pri('{3, 4, 5, 6}')\n",
    "    elif n == 13: return _var(C={3, 4, 5}, D={5, 6}) + _src('&') + _pri('{5}')\n",
    "    elif n == 14: return _var(E={7}, F={8, 9}) + _src('&', '==', 'set()') + _pri('True')\n",
    "    elif n == 15: return _var(E={7}, F={8, 9}) + _src('-', '!=') + _pri('True')\n",
    "    elif n == 16: return _var(A={2, 3, 5, 7})\n",
    "    elif n == 17: return _var(A={0, 2})\n",
    "    elif n == 18: return _typ(A=set, B=set) + _src('|', '&') + _pri('True', 'True')\n",
    "    elif n == 19: return _typ(A=set, B=set) + _src('|', '-', '==') + _pri('True')\n",
    "    elif n == 20: return _typ(A=set, B=set) + _src('|', '-', '!=') + _pri('True')\n",
    "    else: return -1"
   ]
  },
  {
   "cell_type": "markdown",
   "metadata": {
    "id": "2nj3eRk6Q1_n"
   },
   "source": [
    "# Práticas"
   ]
  },
  {
   "cell_type": "markdown",
   "metadata": {
    "id": "pIJJTR85fuWD"
   },
   "source": [
    "## Prática 1"
   ]
  },
  {
   "cell_type": "markdown",
   "metadata": {
    "id": "oglGzfYvQhV6"
   },
   "source": [
    "Declare explicitamente o conjunto $A$ com base na definição formal $A = \\{ x : x \\in \\mathbf{N}$ e $x < 5 \\}$."
   ]
  },
  {
   "cell_type": "code",
   "execution_count": null,
   "metadata": {
    "id": "0n0wf32_QhV9"
   },
   "outputs": [],
   "source": []
  },
  {
   "cell_type": "code",
   "execution_count": null,
   "metadata": {
    "id": "-lpiUZikQhWH"
   },
   "outputs": [],
   "source": [
    "validar(1)"
   ]
  },
  {
   "cell_type": "markdown",
   "metadata": {
    "id": "TyFQMHQvf3zY"
   },
   "source": [
    "## Prática 2"
   ]
  },
  {
   "cell_type": "markdown",
   "metadata": {
    "id": "GiWgucBqQz7O"
   },
   "source": [
    "Declare explicitamente o conjunto $A$ com base na definição formal $A = \\{ x : x \\in \\mathbf{Z}$ e $x^2 -2 \\le 0 \\}$."
   ]
  },
  {
   "cell_type": "code",
   "execution_count": null,
   "metadata": {
    "id": "BxAeYwOSQ1Zu"
   },
   "outputs": [],
   "source": []
  },
  {
   "cell_type": "code",
   "execution_count": null,
   "metadata": {
    "id": "pVmNnTTAQ1yQ"
   },
   "outputs": [],
   "source": [
    "validar(2)"
   ]
  },
  {
   "cell_type": "markdown",
   "metadata": {
    "id": "voRAulH9f95a"
   },
   "source": [
    "## Prática 3"
   ]
  },
  {
   "cell_type": "markdown",
   "metadata": {
    "id": "9pWnRIliQhWP"
   },
   "source": [
    "Defina $B = \\{ 4, 5 \\}$ e mostre o resultado do teste $4 \\in B$, usando `print()`."
   ]
  },
  {
   "cell_type": "code",
   "execution_count": null,
   "metadata": {
    "id": "_AjYoA3KQhWR"
   },
   "outputs": [],
   "source": []
  },
  {
   "cell_type": "code",
   "execution_count": null,
   "metadata": {
    "id": "i8JjgD4xQhWZ"
   },
   "outputs": [],
   "source": [
    "validar(3)"
   ]
  },
  {
   "cell_type": "markdown",
   "metadata": {
    "id": "RtywZHzHgC13"
   },
   "source": [
    "## Prática 4"
   ]
  },
  {
   "cell_type": "markdown",
   "metadata": {
    "id": "ahLYEpjZQhW_"
   },
   "source": [
    "Defina $B = \\{ 4, 5 \\}$ e mostre o resultado do teste $6 \\not \\in B$, usando `print()`."
   ]
  },
  {
   "cell_type": "code",
   "execution_count": null,
   "metadata": {
    "id": "p8MO-Y8HQhXA"
   },
   "outputs": [],
   "source": []
  },
  {
   "cell_type": "code",
   "execution_count": null,
   "metadata": {
    "id": "t46KlnZuQhXG"
   },
   "outputs": [],
   "source": [
    "validar(4)"
   ]
  },
  {
   "cell_type": "markdown",
   "metadata": {
    "id": "Q_sVrw-IhyHd"
   },
   "source": [
    "## Prática 5"
   ]
  },
  {
   "cell_type": "markdown",
   "metadata": {
    "id": "L3Wo_gvCQhWv"
   },
   "source": [
    "Defina os conjuntos $C = \\{ 6, 7, 8 \\}$ e $D = \\{ 7, 6, 8 \\}$ e mostre que eles são iguais (usando a comparação adequada)."
   ]
  },
  {
   "cell_type": "code",
   "execution_count": null,
   "metadata": {
    "id": "tXq-tLemQhWx"
   },
   "outputs": [],
   "source": []
  },
  {
   "cell_type": "code",
   "execution_count": null,
   "metadata": {
    "id": "UvWTrUuGQhW4"
   },
   "outputs": [],
   "source": [
    "validar(5)"
   ]
  },
  {
   "cell_type": "markdown",
   "metadata": {
    "id": "tnfRl_zyiAOJ"
   },
   "source": [
    "## Prática 6"
   ]
  },
  {
   "cell_type": "markdown",
   "metadata": {
    "id": "KfwoGIw2QhXO"
   },
   "source": [
    "Defina os conjuntos $E = \\{ 4 \\}$ e $F = \\{ 4, 5 \\}$ e mostre que eles são desiguais (usando a comparação adequada)."
   ]
  },
  {
   "cell_type": "code",
   "execution_count": null,
   "metadata": {
    "id": "Q1zFJrKoQhXP"
   },
   "outputs": [],
   "source": []
  },
  {
   "cell_type": "code",
   "execution_count": null,
   "metadata": {
    "id": "TL4wNK6MQhXV"
   },
   "outputs": [],
   "source": [
    "validar(6)"
   ]
  },
  {
   "cell_type": "markdown",
   "metadata": {
    "id": "ERUbQEIjjaxH"
   },
   "source": [
    "## Prática 7"
   ]
  },
  {
   "cell_type": "markdown",
   "metadata": {
    "id": "KgCBAclYVLjm"
   },
   "source": [
    "Defina o conjunto $A = \\{ 1, 2 \\}$ e mostre que $A$ contém $A$ (usando a relação de inclusão adequada)."
   ]
  },
  {
   "cell_type": "code",
   "execution_count": null,
   "metadata": {
    "id": "BKysIQddVLjs"
   },
   "outputs": [],
   "source": []
  },
  {
   "cell_type": "code",
   "execution_count": null,
   "metadata": {
    "id": "0YMMPya_VLj9"
   },
   "outputs": [],
   "source": [
    "validar(7)"
   ]
  },
  {
   "cell_type": "markdown",
   "metadata": {
    "id": "7DYanSC2mgyD"
   },
   "source": [
    "## Prática 8"
   ]
  },
  {
   "cell_type": "markdown",
   "metadata": {
    "id": "QyfeRxAzVMoA"
   },
   "source": [
    "Defina os conjuntos $A = \\{ 1, 2 \\}$ e $B = \\{ 2 \\}$ e mostre que $A$ contém propriamente $B$ (usando a relação de inclusão adequada)."
   ]
  },
  {
   "cell_type": "code",
   "execution_count": null,
   "metadata": {
    "id": "GYIR7SZ4VMoC"
   },
   "outputs": [],
   "source": []
  },
  {
   "cell_type": "code",
   "execution_count": null,
   "metadata": {
    "id": "342SY256VMoK"
   },
   "outputs": [],
   "source": [
    "validar(8)"
   ]
  },
  {
   "cell_type": "markdown",
   "metadata": {
    "id": "op01xBUEorl-"
   },
   "source": [
    "## Prática 9"
   ]
  },
  {
   "cell_type": "markdown",
   "metadata": {
    "id": "hWBMonSkorYv"
   },
   "source": [
    "Defina os conjuntos $A = \\{ 1, 2 \\}$ e $B = \\{ 2 \\}$ e mostre que $B$ está contido em $A$ (usando a relação de inclusão adequada)."
   ]
  },
  {
   "cell_type": "code",
   "execution_count": null,
   "metadata": {
    "id": "DohOzA5Ros3u"
   },
   "outputs": [],
   "source": []
  },
  {
   "cell_type": "code",
   "execution_count": null,
   "metadata": {
    "id": "nG5GXU_FosuI"
   },
   "outputs": [],
   "source": [
    "validar(9)"
   ]
  },
  {
   "cell_type": "markdown",
   "metadata": {
    "id": "tcs-c3h7xpjT"
   },
   "source": [
    "## Prática 10"
   ]
  },
  {
   "cell_type": "markdown",
   "metadata": {
    "id": "mGESccLpxpZO"
   },
   "source": [
    "Defina os conjuntos $A = \\{ 1, 2 \\}$ e $B = \\{ 2 \\}$ e mostre que $A$ não é subconjunto de $B$ (usando a relação de inclusão adequada)."
   ]
  },
  {
   "cell_type": "code",
   "execution_count": null,
   "metadata": {
    "id": "ntkNUXLlxrIL"
   },
   "outputs": [],
   "source": []
  },
  {
   "cell_type": "code",
   "execution_count": null,
   "metadata": {
    "id": "eTwl3XtlxqeW"
   },
   "outputs": [],
   "source": [
    "validar(10)"
   ]
  },
  {
   "cell_type": "markdown",
   "metadata": {
    "id": "R1-Jg6v8lBi7"
   },
   "source": [
    "## Prática 11"
   ]
  },
  {
   "cell_type": "markdown",
   "metadata": {
    "id": "2_I5Hxf5lBi9"
   },
   "source": [
    "Crie um conjunto vazio chamado V e mostre que sua cardinalidade é igual a zero (usando a comparação adequada)."
   ]
  },
  {
   "cell_type": "code",
   "execution_count": null,
   "metadata": {
    "id": "6KPf1e2XlBi-"
   },
   "outputs": [],
   "source": []
  },
  {
   "cell_type": "code",
   "execution_count": null,
   "metadata": {
    "id": "8LQuM6UllBjA"
   },
   "outputs": [],
   "source": [
    "validar(11)"
   ]
  },
  {
   "cell_type": "markdown",
   "metadata": {
    "id": "59g2J0Fbk-Nn"
   },
   "source": [
    "## Prática 12"
   ]
  },
  {
   "cell_type": "markdown",
   "metadata": {
    "id": "BASqht2Yk-Nv"
   },
   "source": [
    "Defina os conjuntos $C = \\{ 3, 4, 5 \\}$ e $D = \\{ 5, 6 \\}$ e mostre a união dos mesmos, usando `print()`."
   ]
  },
  {
   "cell_type": "code",
   "execution_count": null,
   "metadata": {
    "id": "WhnUiWkxk-Nx"
   },
   "outputs": [],
   "source": []
  },
  {
   "cell_type": "code",
   "execution_count": null,
   "metadata": {
    "id": "DEkMWDp2k-Nz"
   },
   "outputs": [],
   "source": [
    "validar(12)"
   ]
  },
  {
   "cell_type": "markdown",
   "metadata": {
    "id": "v8SBktST8SYo"
   },
   "source": [
    "## Prática 13"
   ]
  },
  {
   "cell_type": "markdown",
   "metadata": {
    "id": "GkSguw6zV-_u"
   },
   "source": [
    "Defina os conjuntos $C = \\{ 3, 4, 5 \\}$ e $D = \\{ 5, 6 \\}$ e mostre a interseção dos mesmos."
   ]
  },
  {
   "cell_type": "code",
   "execution_count": null,
   "metadata": {
    "id": "chLXVFlYV_AG"
   },
   "outputs": [],
   "source": []
  },
  {
   "cell_type": "code",
   "execution_count": null,
   "metadata": {
    "id": "aizuDbb4V_AM"
   },
   "outputs": [],
   "source": [
    "validar(13)"
   ]
  },
  {
   "cell_type": "markdown",
   "metadata": {
    "id": "k46FKtEc_ocZ"
   },
   "source": [
    "## Prática 14"
   ]
  },
  {
   "cell_type": "markdown",
   "metadata": {
    "id": "dri0rFjP6gxC"
   },
   "source": [
    "Defina os conjuntos $E = \\{ 7 \\}$ e $F = \\{ 8, 9 \\}$ e então mostre que estes são disjuntos (usando a comparação adequada com o conjunto vazio)."
   ]
  },
  {
   "cell_type": "code",
   "execution_count": null,
   "metadata": {
    "id": "5Ttwa5Cl6hxp"
   },
   "outputs": [],
   "source": []
  },
  {
   "cell_type": "code",
   "execution_count": null,
   "metadata": {
    "id": "4LNi_e566iE5"
   },
   "outputs": [],
   "source": [
    "validar(14)"
   ]
  },
  {
   "cell_type": "markdown",
   "metadata": {
    "id": "QQRvElzI9oxQ"
   },
   "source": [
    "## Prática 15"
   ]
  },
  {
   "cell_type": "markdown",
   "metadata": {
    "id": "LPUSSMSc9ohb"
   },
   "source": [
    "Defina os conjuntos $E = \\{ 7 \\}$ e $F = \\{ 8, 9 \\}$ e então mostre que a diferença E - F não é igual a F - E (usando a comparação adequada)."
   ]
  },
  {
   "cell_type": "code",
   "execution_count": null,
   "metadata": {
    "id": "dvNOh0G29pdQ"
   },
   "outputs": [],
   "source": []
  },
  {
   "cell_type": "code",
   "execution_count": null,
   "metadata": {
    "id": "KTvp6rU_ERzQ"
   },
   "outputs": [],
   "source": [
    "validar(15)"
   ]
  },
  {
   "cell_type": "markdown",
   "metadata": {
    "id": "6kI0C9gmVF9n"
   },
   "source": [
    "# Exercícios"
   ]
  },
  {
   "cell_type": "markdown",
   "metadata": {
    "id": "ijBtu5z6GFUU"
   },
   "source": [
    "## Exercício 16"
   ]
  },
  {
   "cell_type": "markdown",
   "metadata": {
    "id": "ZPwAPpocGFCy"
   },
   "source": [
    "Declare explicitamente o conjunto $A$ com base na definição formal $A = \\{ x : x \\in \\mathbf{N}$ e $2 \\leq x \\leq 10$ e $x$ é primo $\\}$."
   ]
  },
  {
   "cell_type": "code",
   "execution_count": null,
   "metadata": {
    "id": "6KdbNADoGFvZ"
   },
   "outputs": [],
   "source": []
  },
  {
   "cell_type": "code",
   "execution_count": null,
   "metadata": {
    "id": "O30u-rdJFy1z"
   },
   "outputs": [],
   "source": [
    "validar(16)"
   ]
  },
  {
   "cell_type": "markdown",
   "metadata": {
    "id": "8DI74aEdqSgp"
   },
   "source": [
    "## Exercício 17"
   ]
  },
  {
   "cell_type": "markdown",
   "metadata": {
    "id": "uQqrssW4qSgr"
   },
   "source": [
    "Declare explicitamente o conjunto $A$ com base na definição formal $A = \\{ x : x \\in \\mathbf{R}$ e $x^2 − 2x = 0 \\}$.\n"
   ]
  },
  {
   "cell_type": "code",
   "execution_count": null,
   "metadata": {
    "id": "Q_hGaa61qSgs"
   },
   "outputs": [],
   "source": []
  },
  {
   "cell_type": "code",
   "execution_count": null,
   "metadata": {
    "id": "F9XHeLVAqSgu"
   },
   "outputs": [],
   "source": [
    "validar(17)"
   ]
  },
  {
   "cell_type": "markdown",
   "metadata": {
    "id": "_oDDbubYqTFP"
   },
   "source": [
    "## Exercício 18"
   ]
  },
  {
   "cell_type": "markdown",
   "metadata": {
    "id": "gfTwX3k2qTFR"
   },
   "source": [
    "Defina dois conjuntos de números inteiros $A$ e $B$ tal que $A \\subseteq B$. Então mostre que vale que $A \\cup B = B$, usando `print()`. Mostre ainda, na linha debaixo, que também vale que $A \\cap B = A$."
   ]
  },
  {
   "cell_type": "code",
   "execution_count": null,
   "metadata": {
    "id": "KYgj_hb6qTFR"
   },
   "outputs": [],
   "source": []
  },
  {
   "cell_type": "code",
   "execution_count": null,
   "metadata": {
    "id": "Z-RCTDZfqTFS"
   },
   "outputs": [],
   "source": [
    "validar(18)"
   ]
  },
  {
   "cell_type": "markdown",
   "metadata": {
    "id": "k1Kcq4eGqTdo"
   },
   "source": [
    "## Exercício 19"
   ]
  },
  {
   "cell_type": "markdown",
   "metadata": {
    "id": "7p6WFaIlqTdq"
   },
   "source": [
    "Defina dois conjuntos de números inteiros $A$ e $B$ tal que $(A \\cup B) − B = A$ seja verdade, usando `print()`. Note que esta igualdade vale apenas para certos conjuntos."
   ]
  },
  {
   "cell_type": "code",
   "execution_count": null,
   "metadata": {
    "id": "94L8sNshqTdq"
   },
   "outputs": [],
   "source": []
  },
  {
   "cell_type": "code",
   "execution_count": null,
   "metadata": {
    "id": "P9Zpy6ioqTdr"
   },
   "outputs": [],
   "source": [
    "validar(19)"
   ]
  },
  {
   "cell_type": "markdown",
   "metadata": {
    "id": "qbR8PgmZqiQy"
   },
   "source": [
    "## Exercício 20"
   ]
  },
  {
   "cell_type": "markdown",
   "metadata": {
    "id": "wrBakGPxqiQz"
   },
   "source": [
    "Defina dois conjuntos de números inteiros $A$ e $B$ tal que $(A \\cup B) − B \\neq A$ seja verdade. Note que esta esta igualdade vale apenas para certos conjuntos."
   ]
  },
  {
   "cell_type": "code",
   "execution_count": null,
   "metadata": {
    "id": "VqoMM0ooqiQ0"
   },
   "outputs": [],
   "source": []
  },
  {
   "cell_type": "code",
   "execution_count": null,
   "metadata": {
    "id": "F6IHZqwpqiQ0"
   },
   "outputs": [],
   "source": [
    "validar(20)"
   ]
  }
 ],
 "metadata": {
  "colab": {
   "collapsed_sections": [
    "r0WpWpygRnTv"
   ],
   "name": "Furg - MatDisc 02 - Lista de práticas e exercícios sobre conjuntos [public]",
   "provenance": []
  },
  "kernelspec": {
   "display_name": "Python 3 (ipykernel)",
   "language": "python",
   "name": "python3"
  },
  "language_info": {
   "codemirror_mode": {
    "name": "ipython",
    "version": 3
   },
   "file_extension": ".py",
   "mimetype": "text/x-python",
   "name": "python",
   "nbconvert_exporter": "python",
   "pygments_lexer": "ipython3",
   "version": "3.11.8"
  }
 },
 "nbformat": 4,
 "nbformat_minor": 4
}
