{
 "cells": [
  {
   "cell_type": "markdown",
   "metadata": {
    "id": "m5v3GN0qLdSz"
   },
   "source": [
    "# Definição de conjuntos\n",
    "\n",
    "Por similaridade à notação matemática, sugere-se usar maiúsculas para o nome dos conjuntos e elementos inteiros."
   ]
  },
  {
   "cell_type": "code",
   "execution_count": null,
   "metadata": {
    "id": "EUqEuKsvis-R"
   },
   "outputs": [],
   "source": [
    "A = {1, 2, 3}"
   ]
  },
  {
   "cell_type": "code",
   "execution_count": null,
   "metadata": {
    "id": "Nr03f6wihAY-"
   },
   "outputs": [],
   "source": [
    "B = {3, 4}"
   ]
  },
  {
   "cell_type": "markdown",
   "metadata": {
    "id": "OrT37XTBQ4cG"
   },
   "source": [
    "# Pertinência\n",
    "\n",
    "A pertinência $1 \\in A$ é testada com o operador `in`:"
   ]
  },
  {
   "cell_type": "code",
   "execution_count": null,
   "metadata": {
    "colab": {
     "base_uri": "https://localhost:8080/"
    },
    "id": "-i7a5XDIPcm-",
    "outputId": "069ff640-5b68-4307-98c9-2d2885bcafa3"
   },
   "outputs": [
    {
     "data": {
      "text/plain": [
       "True"
      ]
     },
     "execution_count": 6,
     "metadata": {},
     "output_type": "execute_result"
    }
   ],
   "source": [
    "1 in A"
   ]
  },
  {
   "cell_type": "markdown",
   "metadata": {
    "id": "Su-8iClaXXOH"
   },
   "source": [
    "A não-pertinência $5 \\not\\in A$ usa o operador `not in`:"
   ]
  },
  {
   "cell_type": "code",
   "execution_count": null,
   "metadata": {
    "colab": {
     "base_uri": "https://localhost:8080/"
    },
    "id": "jnoAnNJkXfuH",
    "outputId": "099796d9-7fbc-49ec-ab13-21ca38cabd39"
   },
   "outputs": [
    {
     "data": {
      "text/plain": [
       "True"
      ]
     },
     "execution_count": 7,
     "metadata": {},
     "output_type": "execute_result"
    }
   ],
   "source": [
    "5 not in A"
   ]
  },
  {
   "cell_type": "markdown",
   "metadata": {
    "id": "TqoeomXZTCDu"
   },
   "source": [
    "# Conjunto vazio\n",
    "\n",
    "O conjunto vazio $\\emptyset$ precisa ser definido da seguinte forma:"
   ]
  },
  {
   "cell_type": "code",
   "execution_count": null,
   "metadata": {
    "id": "zY291saDnuyn"
   },
   "outputs": [],
   "source": [
    "V = set()"
   ]
  },
  {
   "cell_type": "markdown",
   "metadata": {
    "id": "tyZd3M3AM4Mg"
   },
   "source": [
    "# Igualdade e desigualdade\n",
    "\n",
    "As relações $=$ e $\\ne$ precisam ser escritas de forma específica:"
   ]
  },
  {
   "cell_type": "code",
   "execution_count": null,
   "metadata": {
    "colab": {
     "base_uri": "https://localhost:8080/"
    },
    "id": "KbAUGkHqM38i",
    "outputId": "4f9eff72-b2f0-45df-be18-84504b673f40"
   },
   "outputs": [
    {
     "data": {
      "text/plain": [
       "True"
      ]
     },
     "execution_count": 9,
     "metadata": {},
     "output_type": "execute_result"
    }
   ],
   "source": [
    "{1, 2} == {2, 1}"
   ]
  },
  {
   "cell_type": "code",
   "execution_count": null,
   "metadata": {
    "colab": {
     "base_uri": "https://localhost:8080/"
    },
    "id": "fmtC4L1KND6H",
    "outputId": "8e8831e9-c0e2-4af3-dea1-e14b9bb2a11e"
   },
   "outputs": [
    {
     "data": {
      "text/plain": [
       "True"
      ]
     },
     "execution_count": 10,
     "metadata": {},
     "output_type": "execute_result"
    }
   ],
   "source": [
    "A != B"
   ]
  },
  {
   "cell_type": "markdown",
   "metadata": {
    "id": "xWJKQHKGMsCt"
   },
   "source": [
    "# Relações de inclusão\n",
    "\n",
    "As relações de inclusão são testadas da seguinte forma:\n",
    "- $A \\subseteq B$ (A está contido em B) é `A <= B`\n",
    "- $A \\subset B$ (A está contido propriamente em B) é `A < B`\n",
    "- $A \\supseteq B$ (A contém B) é `A >= B`\n",
    "- $A \\supset B$ (A contém propriamente B) é `A > B`"
   ]
  },
  {
   "cell_type": "code",
   "execution_count": null,
   "metadata": {
    "colab": {
     "base_uri": "https://localhost:8080/"
    },
    "id": "jtQsICW_vWrR",
    "outputId": "3be58f58-5ddd-4b4c-8352-eddfca12b147"
   },
   "outputs": [
    {
     "data": {
      "text/plain": [
       "True"
      ]
     },
     "execution_count": 11,
     "metadata": {},
     "output_type": "execute_result"
    }
   ],
   "source": [
    "{1, 2} <= A"
   ]
  },
  {
   "cell_type": "code",
   "execution_count": null,
   "metadata": {
    "colab": {
     "base_uri": "https://localhost:8080/"
    },
    "id": "xQUceE5xvWnF",
    "outputId": "da495693-c03b-4c42-c274-15ea2b0c4f4c"
   },
   "outputs": [
    {
     "data": {
      "text/plain": [
       "True"
      ]
     },
     "execution_count": 12,
     "metadata": {},
     "output_type": "execute_result"
    }
   ],
   "source": [
    "B >= B"
   ]
  },
  {
   "cell_type": "markdown",
   "metadata": {
    "id": "DCeTitwwTz6Z"
   },
   "source": [
    "Relações de não inclusão como $A \\not\\subset B$ precisam usar o operador `not` explicitamente, antes do primeiro conjunto:"
   ]
  },
  {
   "cell_type": "code",
   "execution_count": null,
   "metadata": {
    "colab": {
     "base_uri": "https://localhost:8080/"
    },
    "id": "murTCb4tUDBb",
    "outputId": "e20b5d54-1fd9-4b98-9d67-d594cd6a29b4"
   },
   "outputs": [
    {
     "data": {
      "text/plain": [
       "True"
      ]
     },
     "execution_count": 13,
     "metadata": {},
     "output_type": "execute_result"
    }
   ],
   "source": [
    "not A < B"
   ]
  },
  {
   "cell_type": "markdown",
   "metadata": {
    "id": "DWrf_7p-Qms4"
   },
   "source": [
    "# Cardinalidade\n",
    "\n",
    "A notação $|A|$ usa o operador `len`:"
   ]
  },
  {
   "cell_type": "code",
   "execution_count": null,
   "metadata": {
    "colab": {
     "base_uri": "https://localhost:8080/"
    },
    "id": "kbT0HKvDQmMl",
    "outputId": "eaefd673-3510-4297-a2d7-2ab88b702126"
   },
   "outputs": [
    {
     "data": {
      "text/plain": [
       "3"
      ]
     },
     "execution_count": 14,
     "metadata": {},
     "output_type": "execute_result"
    }
   ],
   "source": [
    "len(A)"
   ]
  },
  {
   "cell_type": "markdown",
   "metadata": {
    "id": "rONJdojITSAA"
   },
   "source": [
    "# Operações com conjuntos\n",
    "\n",
    "Cada operação cria novos conjuntos:\n",
    "- $A \\cup B$ (união) é `A | B`\n",
    "- $A \\cap B$ (interseção) é `A & B`\n",
    "- $A - B$ (diferença) é `A - B`\n"
   ]
  },
  {
   "cell_type": "code",
   "execution_count": null,
   "metadata": {
    "colab": {
     "base_uri": "https://localhost:8080/"
    },
    "id": "CB2xEh5Voe_K",
    "outputId": "4e4eff7b-7351-4596-df88-876da4aa4ee0"
   },
   "outputs": [
    {
     "data": {
      "text/plain": [
       "{1, 2, 3, 4}"
      ]
     },
     "execution_count": 15,
     "metadata": {},
     "output_type": "execute_result"
    }
   ],
   "source": [
    "A | B"
   ]
  },
  {
   "cell_type": "code",
   "execution_count": null,
   "metadata": {
    "colab": {
     "base_uri": "https://localhost:8080/"
    },
    "id": "V-eOTDxxouj4",
    "outputId": "86f605cd-f30d-4189-d16c-a28558813d98"
   },
   "outputs": [
    {
     "data": {
      "text/plain": [
       "{3}"
      ]
     },
     "execution_count": 16,
     "metadata": {},
     "output_type": "execute_result"
    }
   ],
   "source": [
    "A & B"
   ]
  },
  {
   "cell_type": "code",
   "execution_count": null,
   "metadata": {
    "colab": {
     "base_uri": "https://localhost:8080/"
    },
    "id": "edv5EB_PnmkR",
    "outputId": "6dcb14ed-f8a7-4f30-fcfb-6f9dd0d19f44"
   },
   "outputs": [
    {
     "data": {
      "text/plain": [
       "{1, 2}"
      ]
     },
     "execution_count": 17,
     "metadata": {},
     "output_type": "execute_result"
    }
   ],
   "source": [
    "A - B"
   ]
  },
  {
   "cell_type": "code",
   "execution_count": null,
   "metadata": {
    "colab": {
     "base_uri": "https://localhost:8080/"
    },
    "id": "w06_h19dnsp5",
    "outputId": "489878ec-4023-4db3-ef0a-b2466d17c130"
   },
   "outputs": [
    {
     "data": {
      "text/plain": [
       "{4}"
      ]
     },
     "execution_count": 18,
     "metadata": {},
     "output_type": "execute_result"
    }
   ],
   "source": [
    "# ao se trocar a ordem dos conjuntos o resultado é diferente\n",
    "B - A"
   ]
  },
  {
   "cell_type": "code",
   "execution_count": null,
   "metadata": {
    "colab": {
     "base_uri": "https://localhost:8080/"
    },
    "id": "Z0p3liPFo3Ei",
    "outputId": "a2cc8f90-f60f-40e8-edf7-1797b95579d1"
   },
   "outputs": [
    {
     "data": {
      "text/plain": [
       "{1, 2, 5, 6, 7}"
      ]
     },
     "execution_count": 19,
     "metadata": {},
     "output_type": "execute_result"
    }
   ],
   "source": [
    "# exemplo mais complexo\n",
    "(A - B) | {5, 6, 7}"
   ]
  }
 ],
 "metadata": {
  "colab": {
   "collapsed_sections": [],
   "name": "Furg - MatDisc 02 - Notebook sobre álgebra dos conjuntos",
   "provenance": []
  },
  "kernelspec": {
   "display_name": "Python 3 (ipykernel)",
   "language": "python",
   "name": "python3"
  },
  "language_info": {
   "codemirror_mode": {
    "name": "ipython",
    "version": 3
   },
   "file_extension": ".py",
   "mimetype": "text/x-python",
   "name": "python",
   "nbconvert_exporter": "python",
   "pygments_lexer": "ipython3",
   "version": "3.11.8"
  }
 },
 "nbformat": 4,
 "nbformat_minor": 4
}
