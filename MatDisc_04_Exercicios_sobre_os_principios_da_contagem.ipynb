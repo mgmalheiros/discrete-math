{
 "cells": [
  {
   "cell_type": "markdown",
   "metadata": {
    "id": "f2MGpk7TFpyL"
   },
   "source": [
    "# Inicialização"
   ]
  },
  {
   "cell_type": "code",
   "execution_count": null,
   "metadata": {
    "id": "qPequ2DC5lI4"
   },
   "outputs": [],
   "source": [
    "import itertools as it"
   ]
  },
  {
   "cell_type": "markdown",
   "metadata": {
    "id": "b24WkgbNPvOL"
   },
   "source": [
    "# Princípio da casa dos pombos"
   ]
  },
  {
   "cell_type": "markdown",
   "metadata": {
    "id": "n1g5FaGsVcy9"
   },
   "source": [
    "Mostre que em qualquer grupo de 13 pessoas há pelo menos **duas pessoas** que fazem aniversário no mesmo mês."
   ]
  },
  {
   "cell_type": "code",
   "execution_count": null,
   "metadata": {
    "id": "vn9_z6wHwEFV"
   },
   "outputs": [],
   "source": []
  },
  {
   "cell_type": "markdown",
   "metadata": {
    "id": "1KjkrhELVhT-"
   },
   "source": [
    "Em um grupo de 100 pessoas, **pelo menos** quantas nasceram em um mesmo mês?"
   ]
  },
  {
   "cell_type": "code",
   "execution_count": null,
   "metadata": {
    "id": "5lOHFx8rwEDH"
   },
   "outputs": [],
   "source": []
  },
  {
   "cell_type": "markdown",
   "metadata": {
    "id": "JfTDGAAPGF21"
   },
   "source": [
    "# Princípio multiplicativo da contagem\n",
    "- Também chamado de **regra do produto**"
   ]
  },
  {
   "cell_type": "markdown",
   "metadata": {
    "id": "axjeHM_OVyjI"
   },
   "source": [
    "Um teatro tem fileiras identificadas com as letras do alfabeto de A a Z, sendo que cada fileira tem suas cadeiras identificadas com números de 1 a 100. Quantos lugares tem este teatro?"
   ]
  },
  {
   "cell_type": "code",
   "execution_count": null,
   "metadata": {
    "id": "wd1piLJS5pnz"
   },
   "outputs": [],
   "source": []
  },
  {
   "cell_type": "markdown",
   "metadata": {
    "id": "B4pHzoIAV79K"
   },
   "source": [
    "Uma companhia com apenas dois empregados alugou um andar de um prédio com 12 salas. Quantas formas diferentes há para designar as salas para estes empregados, sabendo que as salas são individuais?"
   ]
  },
  {
   "cell_type": "code",
   "execution_count": null,
   "metadata": {
    "id": "1v8z5F6KLdMx"
   },
   "outputs": [],
   "source": []
  },
  {
   "cell_type": "markdown",
   "metadata": {
    "id": "XcH4cG-ZWWv4"
   },
   "source": [
    "Um algoritmo de ordenação compara cada número **n** de sua entrada com todos os outros números, menos ele mesmo. Quantas comparações o algoritmo faz para  ordenar **n** números?"
   ]
  },
  {
   "cell_type": "code",
   "execution_count": null,
   "metadata": {
    "id": "lpQ0AlYOL42f"
   },
   "outputs": [],
   "source": []
  },
  {
   "cell_type": "markdown",
   "metadata": {
    "id": "dwgueZLAWwEh"
   },
   "source": [
    "# Princípio aditivo da contagem\n",
    "\n",
    "- Também chamado de **regra da soma**"
   ]
  },
  {
   "cell_type": "markdown",
   "metadata": {
    "id": "5RTkeqCwW_Ja"
   },
   "source": [
    "Um estudante deve escolher um único projeto a partir de três listas. As listas contêm 23, 15 e 19 possíveis projetos, respectivamente. Nenhum projeto está em mais de uma lista. Quantos projetos possíveis existem para ser escolhidos?"
   ]
  },
  {
   "cell_type": "code",
   "execution_count": null,
   "metadata": {
    "id": "stPLdlUqXkH7"
   },
   "outputs": [],
   "source": []
  },
  {
   "cell_type": "markdown",
   "metadata": {
    "id": "Y3VgHQ-7XjHD"
   },
   "source": []
  },
  {
   "cell_type": "markdown",
   "metadata": {
    "id": "r5mmRxijG046"
   },
   "source": [
    "# Princípio subtrativo da contagem"
   ]
  },
  {
   "cell_type": "markdown",
   "metadata": {
    "id": "adzqbzhNX5F8"
   },
   "source": [
    "Suponha que na linguagem de programação Python o nome de uma variável deve conter apenas um ou dois caracteres alfanuméricos. Além disso:\n",
    "\n",
    "- Letras maiúsculas e minúsculas fazem diferença.\n",
    "- Uma variável deve iniciar por uma letra.\n",
    "- A variável não pode ser nenhuma das cinco palavras reservadas da linguagem (`if`, `in`, `is`, `as` e `or`).\n",
    "\n",
    "Quantos diferentes nomes de variáveis são possíveis?"
   ]
  },
  {
   "cell_type": "code",
   "execution_count": null,
   "metadata": {
    "id": "8vtg2PQv8x5b"
   },
   "outputs": [],
   "source": []
  },
  {
   "cell_type": "markdown",
   "metadata": {
    "id": "ZNQBIwQfZTHP"
   },
   "source": [
    "Em um sistema, cada usuário tem uma senha de quatro a seis caracteres de comprimento. Cada caractere é uma letra maiúscula ou um dígito. Cada senha deve conter ao menos um dígito. Quantos senhas são possíveis?"
   ]
  },
  {
   "cell_type": "code",
   "execution_count": null,
   "metadata": {
    "id": "uASF3okwtC43"
   },
   "outputs": [],
   "source": []
  },
  {
   "cell_type": "markdown",
   "metadata": {
    "id": "grD3cqTtHTMN"
   },
   "source": [
    "# Princípio da inclusão e exclusão"
   ]
  },
  {
   "cell_type": "markdown",
   "metadata": {
    "id": "0IMxps81Zq6G"
   },
   "source": [
    "Sabe-se que:\n",
    "\n",
    "- O curso de graduação tem 300 alunos.\n",
    "- A disciplina de Matemática Discreta tem 38 alunos.\n",
    "- A disciplina de Algoritmos tem 82 alunos.\n",
    "- E 25 alunos fazem tanto MD quanto Algoritmos.\n",
    "\n",
    "Quantos alunos não fazem nem MD nem Algoritmos?"
   ]
  },
  {
   "cell_type": "code",
   "execution_count": null,
   "metadata": {
    "id": "0nlZEDUiwEUN"
   },
   "outputs": [],
   "source": []
  }
 ],
 "metadata": {
  "colab": {
   "collapsed_sections": [],
   "name": "Furg - MatDisc 05 - Exercícios sobre os princípios da contagem",
   "provenance": []
  },
  "kernelspec": {
   "display_name": "Python 3 (ipykernel)",
   "language": "python",
   "name": "python3"
  },
  "language_info": {
   "codemirror_mode": {
    "name": "ipython",
    "version": 3
   },
   "file_extension": ".py",
   "mimetype": "text/x-python",
   "name": "python",
   "nbconvert_exporter": "python",
   "pygments_lexer": "ipython3",
   "version": "3.11.8"
  }
 },
 "nbformat": 4,
 "nbformat_minor": 4
}
