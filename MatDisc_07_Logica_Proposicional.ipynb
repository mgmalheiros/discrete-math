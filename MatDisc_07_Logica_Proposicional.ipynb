{
 "cells": [
  {
   "cell_type": "markdown",
   "metadata": {
    "id": "LFfT95A0H_jq"
   },
   "source": [
    "# Lógica proposicional\n",
    "Material interessante que pode ser adaptado https://www.youtube.com/watch?v=D9pkdnIrjdM"
   ]
  },
  {
   "cell_type": "markdown",
   "metadata": {
    "id": "gJDgC6ISMYI6"
   },
   "source": [
    "## Código em inglês"
   ]
  },
  {
   "cell_type": "code",
   "execution_count": null,
   "metadata": {
    "id": "FXEl8TdkGhoC"
   },
   "outputs": [],
   "source": [
    "# quantifier: \"there exists a unique ...\"\n",
    "# e.g. exactly_one( n*n == 9 for n in range(1,10) ) is True\n",
    "def exactly_one(S):\n",
    "\treturn len([ s for s in S if s ]) == 1\n",
    "#\n",
    "\n",
    "def in_order(L):\n",
    "\treturn all( L[i] <= L[i+1] for i in range(0, len(L)-1) )\n",
    "#\n",
    "\n",
    "def set_to_predicate(S):\n",
    "\treturn lambda x: x in S\n",
    "#\n",
    "\n",
    "def truth_table_rows(variables):\n",
    "\tif len(variables) == 0:\n",
    "\t\treturn [dict()]\n",
    "\tvariables = list(variables)\n",
    "\tP = variables[0]\n",
    "\tR = truth_table_rows(variables[1:])\n",
    "\tadd_P = lambda v: [ dict([(P,v)] + list(r.items())) for r in R ]\n",
    "\treturn add_P(True) + add_P(False)\n",
    "#\n",
    "\n",
    "def vars(*var_names):\n",
    "        return ( Variable(name) for name in var_names )\n",
    "#\n",
    "\n",
    "def cast_to_proposition(p):\n",
    "\tif isinstance(p, Proposition):\n",
    "\t\treturn p\n",
    "\telif isinstance(p, str):\n",
    "\t\treturn Variable(p)\n",
    "\telif isinstance(p, bool):\n",
    "\t\treturn Constant(p)\n",
    "\telse:\n",
    "\t\traise ValueError()\n",
    "#\n",
    "\n",
    "class Proposition:\n",
    "\tsymbol = ''\n",
    "\tempty_str = ''\n",
    "\tdef __init__(self, *children):\n",
    "\t\tself.children = [ cast_to_proposition(c) for c in children ]\n",
    "\tdef __str__(self):\n",
    "\t\tif len(self.children) == 0: return self.empty_str\n",
    "\t\treturn self.symbol.join( c.child_str() for c in self.children )\n",
    "\tdef evaluate(self, **assignments):\n",
    "\t\traise NotImplementedError()\n",
    "\tdef variables(self):\n",
    "\t\tif len(self.children) == 0:\n",
    "\t\t\treturn frozenset()\n",
    "\t\telse:\n",
    "\t\t\treturn frozenset.union(*[ c.variables() for c in self.children ])\n",
    "\tdef __repr__(self):\n",
    "\t\treturn 'Proposition( {0} )'.format(self)\n",
    "\tdef child_str(self):\n",
    "\t\treturn ('{0}' if isinstance(self, (Constant,Variable,Not)) else '({0})').format(self)\n",
    "\tdef print_truth_table(self):\n",
    "\t\tvars = sorted( self.variables() )\n",
    "\t\trows = truth_table_rows(vars)\n",
    "\t\t\n",
    "\t\tformula_header = str(self)\n",
    "\t\tformula_len = max(5,len(formula_header))\n",
    "\t\theader = '{0}  #  {1: ^{2}}'.format('  '.join('{0: ^5}'.format(v) for v in vars), formula_header, formula_len)\n",
    "\t\tprint(header)\n",
    "\t\tprint('#'*len(header))\n",
    "\t\t\n",
    "\t\tfor r in rows:\n",
    "\t\t\tvar_cols = '  '.join('{0: ^{1}}'.format(str(r[v]), max(5,len(v))) for v in vars)\n",
    "\t\t\tresult_col = '{0: ^{1}}'.format(str(self.evaluate(**r)), formula_len)\n",
    "\t\t\tprint('{0}  #  {1}'.format(var_cols, result_col)) \n",
    "\t\tprint()\n",
    "\tdef to_tree(self):\n",
    "\t\tfrom trees import ListTree\n",
    "\t\tresult = ListTree(value=str(self))\n",
    "\t\tfor c in self.children:\n",
    "\t\t\tresult.add_child_node(c.to_tree())\n",
    "\t\treturn result\n",
    "\tdef __and__(self,other):\n",
    "\t\tv = self.children if isinstance(self,And) else [self]\n",
    "\t\tw = other.children if isinstance(other,And) else [other]\n",
    "\t\treturn And(*(v+w))\n",
    "\tdef __rand__(self,other):\n",
    "\t\treturn cast_to_proposition(other) & self\n",
    "\tdef __or__(self,other):\n",
    "\t\tv = self.children if isinstance(self,Or) else [self]\n",
    "\t\tw = other.children if isinstance(other,Or) else [other]\n",
    "\t\treturn Or(*(v+w))\n",
    "\tdef __ror__(self,other):\n",
    "\t\treturn cast_to_proposition(other) | self\n",
    "\tdef __invert__(self):\n",
    "\t\treturn Not(self)\n",
    "\tdef __rshift__(self,other):\n",
    "\t\treturn Implies(self,other)\n",
    "\tdef __rrshift__(self,other):\n",
    "\t\treturn Implies(other,self)\n",
    "\tdef __lshift__(self,other):\n",
    "\t\treturn ImpliedBy(self,other)\n",
    "\tdef __rlshift__(self,other):\n",
    "\t\treturn ImpliedBy(other,self)\n",
    "\tdef disjunction(self,other):\n",
    "\t\treturn self | other\n",
    "\tdef conjunction(self,other):\n",
    "\t\treturn self & other\n",
    "\tdef negation(self):\n",
    "\t\treturn ~self\n",
    "\tdef implies(self,other):\n",
    "\t\treturn self >> other\n",
    "\tdef impliedby(self,other):\n",
    "\t\treturn self << other\n",
    "\tdef iff(self,other):\n",
    "\t\treturn Iff(self,other)\n",
    "\tdef is_tautology(self):\n",
    "\t\treturn all( self.evaluate(**r) for r in truth_table_rows(self.variables()) )\n",
    "\tdef is_contradiction(self):\n",
    "\t\treturn all( not self.evaluate(**r) for r in truth_table_rows(self.variables()) )\n",
    "\tdef is_contingency(self):\n",
    "\t\treturn not self.is_tautology() and not self.is_contradiction()\n",
    "\tdef __eq__(self,other):\n",
    "\t\treturn self.is_equivalent(other)\n",
    "\tdef is_equivalent(self,other):\n",
    "\t\tother = cast_to_proposition(other)\n",
    "\t\treturn all( self.evaluate(**r) == other.evaluate(**r) for r in truth_table_rows(self.variables() | other.variables()) )\n",
    "\tdef is_identical(self,other):\n",
    "\t\treturn self.__class__ == other.__class__ \\\n",
    "\t\t\tand len(self.children) == len(other.children) \\\n",
    "\t\t\tand all( c.is_identical(d) for (c,d) in zip(self.children,other.children) )\n",
    "\tdef substitute(self, e1, e2):\n",
    "\t\tif self.is_identical(e1):\n",
    "\t\t\treturn e2\n",
    "\t\telse:\n",
    "\t\t\treturn self.__class__( *[c.substitute(e1,e2) for c in self.children] )\n",
    "#\n",
    "\n",
    "class Constant(Proposition):\n",
    "\tdef __init__(self,value):\n",
    "\t\tself.children = []\n",
    "\t\tself.value = bool(value)\n",
    "\tdef substitute(self, e1, e2):\n",
    "\t\treturn Constant(self.value)\n",
    "\tdef __str__(self):\n",
    "\t\treturn str(self.value)\n",
    "\tdef evaluate(self, **assignments):\n",
    "\t\treturn self.value\n",
    "\tdef is_identical(self,other):\n",
    "\t\treturn isinstance(other, Constant) and self.value == other.value\n",
    "#\n",
    "\n",
    "class Variable(Proposition):\n",
    "\tdef __init__(self,name):\n",
    "\t\tself.children = []\n",
    "\t\tself.name = name\n",
    "\tdef substitute(self, e1, e2):\n",
    "\t\tif self.is_identical(e1):\n",
    "\t\t\treturn e2\n",
    "\t\telse:\n",
    "\t\t\treturn Variable(self.name)\n",
    "\tdef variables(self):\n",
    "\t\treturn frozenset({ self.name })\n",
    "\tdef __str__(self):\n",
    "\t\treturn self.name\n",
    "\tdef evaluate(self, **assignments):\n",
    "\t\treturn assignments[self.name]\n",
    "\tdef is_identical(self,other):\n",
    "\t\treturn isinstance(other, Variable) and self.name == other.name\n",
    "#\n",
    "\n",
    "class Not(Proposition):\n",
    "\tdef __init__(self,child):\n",
    "\t\tProposition.__init__(self,child)\n",
    "\tdef __str__(self):\n",
    "\t\treturn u'¬{0}'.format(self.children[0].child_str()) \n",
    "\tdef evaluate(self, **assignments):\n",
    "\t\treturn not self.children[0].evaluate(**assignments)\n",
    "#\n",
    "\n",
    "class And(Proposition):\n",
    "\tsymbol = ' ^ '\n",
    "\tempty_str = 'True'\n",
    "\tdef evaluate(self, **assignments):\n",
    "\t\treturn all( child.evaluate(**assignments) for child in self.children )\n",
    "#\n",
    "\n",
    "class Or(Proposition):\n",
    "\tsymbol = ' v '\n",
    "\tempty_str = 'False'\n",
    "\tdef evaluate(self, **assignments):\n",
    "\t\treturn any( child.evaluate(**assignments) for child in self.children )\n",
    "#\n",
    "\n",
    "class Implies(Proposition):\n",
    "\tsymbol = ' => '\n",
    "\tdef __init__(self,child1,child2):\n",
    "\t\tProposition.__init__(self,child1,child2)\n",
    "\tdef evaluate(self, **assignments):\n",
    "\t\tif self.children[0].evaluate(**assignments):\n",
    "\t\t\treturn self.children[1].evaluate(**assignments)\n",
    "\t\telse:\n",
    "\t\t\treturn True\n",
    "#\n",
    "\n",
    "class ImpliedBy(Proposition):\n",
    "\tsymbol = ' <= '\n",
    "\tdef __init__(self,child1,child2):\n",
    "\t\tProposition.__init__(self,child1,child2)\n",
    "\tdef evaluate(self, **assignments):\n",
    "\t\tif self.children[1].evaluate(**assignments):\n",
    "\t\t\treturn self.children[0].evaluate(**assignments)\n",
    "\t\telse:\n",
    "\t\t\treturn True\n",
    "#\n",
    "\n",
    "class Iff(Proposition):\n",
    "\tsymbol = ' <=> '\n",
    "\tdef __init__(self,child1,child2):\n",
    "\t\tProposition.__init__(self,child1,child2)\n",
    "\tdef evaluate(self, **assignments):\n",
    "\t\treturn self.children[0].evaluate(**assignments) == self.children[1].evaluate(**assignments)\n",
    "#\n",
    "\n",
    "class ArgumentForm:\n",
    "\tdef __init__(self, *premises, conclusion):\n",
    "\t\tself.premises = [ cast_to_proposition(c) for c in premises ]\n",
    "\t\tself.conclusion = cast_to_proposition(conclusion)\n",
    "\tdef variables(self):\n",
    "\t\treturn frozenset.union(self.conclusion.variables(), *[ c.variables() for c in self.premises ])\n",
    "\tdef __repr__(self):\n",
    "\t\treturn 'ArgumentForm( {0} )'.format(self)\n",
    "\tdef __str__(self):\n",
    "\t\treturn ((', '.join(str(c) for c in self.premises) + ', ') if self.premises else '') + 'conclusion = ' + str(self.conclusion)\n",
    "\tdef print_truth_table(self):\n",
    "\t\tvars = sorted( self.variables() )\n",
    "\t\trows = truth_table_rows(vars)\n",
    "\t\t\n",
    "\t\tvar_strings = [ '{0: ^5}'.format(v) for v in vars ]\n",
    "\t\tpremise_strings = [ '{0: ^6}'.format(str(c)) for c in self.premises ]\n",
    "\t\tconclusion_string = '{0: ^10}'.format(str(self.conclusion))\n",
    "\t\tvars_header = '  '.join(var_strings)\n",
    "\t\tpremises_header = '{0: ^8}'.format('   '.join(premise_strings))\n",
    "\t\tprint('{0}  #  {1: ^{2}}  #  {3: ^{4}}'.format(' '*len(vars_header), 'premises', len(premises_header), 'conclusion', len(conclusion_string)))\n",
    "\t\theader = '{0}  #  {1: ^8}  #  {2}'.format(vars_header, premises_header, conclusion_string)\n",
    "\t\tprint(header)\n",
    "\t\tprint('#'*len(header))\n",
    "\t\t\n",
    "\t\tfor r in rows:\n",
    "\t\t\tpremise_values = [ c.evaluate(**r) for c in self.premises ]\n",
    "\t\t\tconclusion_value = self.conclusion.evaluate(**r)\n",
    "\t\t\tstar = '*' if all( v for v in premise_values ) else ''\n",
    "\t\t\tvar_cols = '  '.join( '{0: ^{1}}'.format(str(r[v]), len(k)) for (k,v) in zip(var_strings, vars) )\n",
    "\t\t\tpremise_cols = '   '.join( '{0: ^{1}}'.format(str(v)+star, len(k)) for (k,v) in zip(premise_strings, premise_values) )\n",
    "\t\t\tconclusion_col = '{0: ^{1}}'.format(str(conclusion_value)+star, len(conclusion_string))\n",
    "\t\t\tprint('{0}  #  {1: ^8}  #  {2}'.format(var_cols, premise_cols, conclusion_col))\n",
    "\t\tprint()\n",
    "\tdef is_valid(self):\n",
    "\t\tvars = (frozenset.union(*[ c.variables() for c in self.premises ]) if self.premises else frozenset()) | self.conclusion.variables()\n",
    "\t\treturn all( self.conclusion.evaluate(**r) for r in truth_table_rows(vars) if all( c.evaluate(**r) for c in self.premises ) )\n",
    "\tdef substitute(self, e1, e2):\n",
    "\t\treturn ArgumentForm( *[ c.substitute(e1,e2) for c in self.premises ], conclusion = self.conclusion.substitute(e1,e2) )\n",
    "#"
   ]
  },
  {
   "cell_type": "code",
   "execution_count": null,
   "metadata": {
    "colab": {
     "base_uri": "https://localhost:8080/"
    },
    "id": "hiL9yqvLHB2V",
    "outputId": "25d9ad2c-5834-4826-aef5-0f683f9e20a8"
   },
   "outputs": [
    {
     "data": {
      "text/plain": [
       "Proposition( R )"
      ]
     },
     "execution_count": 45,
     "metadata": {},
     "output_type": "execute_result"
    }
   ],
   "source": [
    "P, Q, R  = vars('P', 'Q', 'R')\n",
    "\n",
    "Proposition(P)\n",
    "Proposition(Q)\n",
    "Proposition(R)"
   ]
  },
  {
   "cell_type": "code",
   "execution_count": null,
   "metadata": {
    "id": "o9iD83mlHLe4"
   },
   "outputs": [],
   "source": [
    "formula1 = ((P | Q) & ~P) >> Q"
   ]
  },
  {
   "cell_type": "code",
   "execution_count": null,
   "metadata": {
    "colab": {
     "base_uri": "https://localhost:8080/"
    },
    "id": "8uENiqMXHuX8",
    "outputId": "7d852c14-ef97-4b4b-b20d-e7a4ba0eca1b"
   },
   "outputs": [
    {
     "data": {
      "text/plain": [
       "Proposition( ((P v Q) ^ ¬P) => Q )"
      ]
     },
     "execution_count": 47,
     "metadata": {},
     "output_type": "execute_result"
    }
   ],
   "source": [
    "formula1"
   ]
  },
  {
   "cell_type": "code",
   "execution_count": null,
   "metadata": {
    "colab": {
     "base_uri": "https://localhost:8080/"
    },
    "id": "fMnUuVNsHvrZ",
    "outputId": "cb96140c-bac2-486b-9db9-0aac55f5ab92"
   },
   "outputs": [
    {
     "name": "stdout",
     "output_type": "stream",
     "text": [
      "  P      Q    #  ((P v Q) ^ ¬P) => Q\n",
      "####################################\n",
      "True   True   #         True        \n",
      "True   False  #         True        \n",
      "False  True   #         True        \n",
      "False  False  #         True        \n",
      "\n"
     ]
    }
   ],
   "source": [
    "# Tabela verdade\n",
    "formula1.print_truth_table()"
   ]
  },
  {
   "cell_type": "code",
   "execution_count": null,
   "metadata": {
    "colab": {
     "base_uri": "https://localhost:8080/"
    },
    "id": "TFKhXd4NIQIy",
    "outputId": "cb081d69-ae96-4688-9bd9-0f5c5fe33992"
   },
   "outputs": [
    {
     "data": {
      "text/plain": [
       "True"
      ]
     },
     "execution_count": 49,
     "metadata": {},
     "output_type": "execute_result"
    }
   ],
   "source": [
    "# Tautologia\n",
    "formula1.is_tautology()"
   ]
  },
  {
   "cell_type": "code",
   "execution_count": null,
   "metadata": {
    "id": "XISrsspxIiAp"
   },
   "outputs": [],
   "source": [
    "formula2 = (P & Q) >> R"
   ]
  },
  {
   "cell_type": "code",
   "execution_count": null,
   "metadata": {
    "id": "B5qcFK8_ImS0"
   },
   "outputs": [],
   "source": [
    "formula3 = P >>(Q >> R)"
   ]
  },
  {
   "cell_type": "code",
   "execution_count": null,
   "metadata": {
    "colab": {
     "base_uri": "https://localhost:8080/"
    },
    "id": "fEG8bcwdIo3R",
    "outputId": "d27fc7bb-6e9d-4d8f-9abe-2c6b2c8dd3e7"
   },
   "outputs": [
    {
     "name": "stdout",
     "output_type": "stream",
     "text": [
      "  P      Q      R    #  (P ^ Q) => R\n",
      "####################################\n",
      "True   True   True   #      True    \n",
      "True   True   False  #     False    \n",
      "True   False  True   #      True    \n",
      "True   False  False  #      True    \n",
      "False  True   True   #      True    \n",
      "False  True   False  #      True    \n",
      "False  False  True   #      True    \n",
      "False  False  False  #      True    \n",
      "\n"
     ]
    }
   ],
   "source": [
    "formula2.print_truth_table()"
   ]
  },
  {
   "cell_type": "code",
   "execution_count": null,
   "metadata": {
    "colab": {
     "base_uri": "https://localhost:8080/"
    },
    "id": "d-HOTM6_ItQR",
    "outputId": "dd0bf05f-ef4e-4916-deda-5d8ce949c160"
   },
   "outputs": [
    {
     "data": {
      "text/plain": [
       "True"
      ]
     },
     "execution_count": 53,
     "metadata": {},
     "output_type": "execute_result"
    }
   ],
   "source": [
    "formula2 == formula3"
   ]
  },
  {
   "cell_type": "code",
   "execution_count": null,
   "metadata": {
    "colab": {
     "base_uri": "https://localhost:8080/"
    },
    "id": "nd-kG-ilIxBz",
    "outputId": "54b4d6a4-3434-441c-d262-b82c34e2e2f0"
   },
   "outputs": [
    {
     "data": {
      "text/plain": [
       "Proposition( P ^ Q )"
      ]
     },
     "execution_count": 54,
     "metadata": {},
     "output_type": "execute_result"
    }
   ],
   "source": [
    "P & Q"
   ]
  },
  {
   "cell_type": "code",
   "execution_count": null,
   "metadata": {
    "colab": {
     "base_uri": "https://localhost:8080/"
    },
    "id": "qlRBYHmvI6Mt",
    "outputId": "d9eff73d-203f-4e45-b594-c41eb4b85067"
   },
   "outputs": [
    {
     "data": {
      "text/plain": [
       "Proposition( P v Q )"
      ]
     },
     "execution_count": 55,
     "metadata": {},
     "output_type": "execute_result"
    }
   ],
   "source": [
    "P | Q"
   ]
  },
  {
   "cell_type": "code",
   "execution_count": null,
   "metadata": {
    "colab": {
     "base_uri": "https://localhost:8080/"
    },
    "id": "mB8ISLKbI7CV",
    "outputId": "d7798fe7-8e51-48da-cbc7-142efcaed23f"
   },
   "outputs": [
    {
     "data": {
      "text/plain": [
       "Proposition( P => Q )"
      ]
     },
     "execution_count": 56,
     "metadata": {},
     "output_type": "execute_result"
    }
   ],
   "source": [
    "P >> Q"
   ]
  },
  {
   "cell_type": "code",
   "execution_count": null,
   "metadata": {
    "colab": {
     "base_uri": "https://localhost:8080/"
    },
    "id": "gY6Vd28SI77J",
    "outputId": "aeddeedb-9f75-4ea5-d0e3-81a17d788bb1"
   },
   "outputs": [
    {
     "data": {
      "text/plain": [
       "Proposition( P <= Q )"
      ]
     },
     "execution_count": 57,
     "metadata": {},
     "output_type": "execute_result"
    }
   ],
   "source": [
    "P << Q"
   ]
  },
  {
   "cell_type": "code",
   "execution_count": null,
   "metadata": {
    "colab": {
     "base_uri": "https://localhost:8080/"
    },
    "id": "GK2laiVyI8hj",
    "outputId": "c2b11309-de0b-4eae-f13f-c185cb5d4c78"
   },
   "outputs": [
    {
     "data": {
      "text/plain": [
       "Proposition( P <=> Q )"
      ]
     },
     "execution_count": 58,
     "metadata": {},
     "output_type": "execute_result"
    }
   ],
   "source": [
    "P.iff(Q)"
   ]
  },
  {
   "cell_type": "code",
   "execution_count": null,
   "metadata": {
    "colab": {
     "base_uri": "https://localhost:8080/"
    },
    "id": "H146Kz2OI9Sn",
    "outputId": "c9450951-a949-416d-ecaf-96d616eef009"
   },
   "outputs": [
    {
     "data": {
      "text/plain": [
       "True"
      ]
     },
     "execution_count": 30,
     "metadata": {},
     "output_type": "execute_result"
    }
   ],
   "source": [
    "# Contradição\n",
    "(P & ~P).is_contradiction()"
   ]
  },
  {
   "cell_type": "code",
   "execution_count": null,
   "metadata": {
    "colab": {
     "base_uri": "https://localhost:8080/"
    },
    "id": "AnR3HazWJBjn",
    "outputId": "b41856ab-a74a-4e08-9070-7920f7d133eb"
   },
   "outputs": [
    {
     "data": {
      "text/plain": [
       "False"
      ]
     },
     "execution_count": 28,
     "metadata": {},
     "output_type": "execute_result"
    }
   ],
   "source": [
    "(P & ~P).is_contingency()"
   ]
  },
  {
   "cell_type": "markdown",
   "metadata": {
    "id": "Eejo6jhtMbmf"
   },
   "source": [
    "## Código em português"
   ]
  },
  {
   "cell_type": "code",
   "execution_count": null,
   "metadata": {
    "id": "0KBfmLf7HTz4"
   },
   "outputs": [],
   "source": [
    "# quantificador: \"há apenas um único ...\"\n",
    "# exemplo exatamente_um( n*n == 9 for n in range(1,10) ) is True\n",
    "\n",
    "def exatamente_um(S):\n",
    "\treturn len([ s for s in S if s ]) == 1\n",
    "#\n",
    "\n",
    "def in_order(L):\n",
    "\treturn all( L[i] <= L[i+1] for i in range(0, len(L)-1) )\n",
    "#\n",
    "\n",
    "def seta_predicado(S):\n",
    "\treturn lambda x: x in S\n",
    "#\n",
    "\n",
    "def tabela_verdade_linhas(variables):\n",
    "\tif len(variables) == 0:\n",
    "\t\treturn [dict()]\n",
    "\tvariables = list(variables)\n",
    "\tP = variables[0]\n",
    "\tR = tabela_verdade_linhas(variables[1:])\n",
    "\tadd_P = lambda v: [ dict([(P,v)] + list(r.items())) for r in R ]\n",
    "\treturn add_P(True) + add_P(False)\n",
    "#\n",
    "\n",
    "def vars(*var_names):\n",
    "        return ( Variavel(name) for name in var_names )\n",
    "#\n",
    "\n",
    "def cast_to_proposition(p):\n",
    "\tif isinstance(p, Proposicao):\n",
    "\t\treturn p\n",
    "\telif isinstance(p, str):\n",
    "\t\treturn Variavel(p)\n",
    "\telif isinstance(p, bool):\n",
    "\t\treturn Constante(p)\n",
    "\telse:\n",
    "\t\traise ValueError()\n",
    "#\n",
    "\n",
    "class Proposicao:\n",
    "\tsymbol = ''\n",
    "\tempty_str = ''\n",
    "\tdef __init__(self, *children):\n",
    "\t\tself.children = [ cast_to_proposition(c) for c in children ]\n",
    "\tdef __str__(self):\n",
    "\t\tif len(self.children) == 0: return self.empty_str\n",
    "\t\treturn self.symbol.join( c.child_str() for c in self.children )\n",
    "\tdef avaliar(self, **assignments):\n",
    "\t\traise NotImplementedError()\n",
    "\tdef variaveis(self):\n",
    "\t\tif len(self.children) == 0:\n",
    "\t\t\treturn frozenset()\n",
    "\t\telse:\n",
    "\t\t\treturn frozenset.union(*[ c.variaveis() for c in self.children ])\n",
    "\tdef __repr__(self):\n",
    "\t\treturn 'Proposicao( {0} )'.format(self)\n",
    "\tdef child_str(self):\n",
    "\t\treturn ('{0}' if isinstance(self, (Constante,Variavel,Not)) else '({0})').format(self)\n",
    "\tdef print_tabela_verdade(self):\n",
    "\t\tvars = sorted( self.variaveis() )\n",
    "\t\trows = tabela_verdade_linhas(vars)\n",
    "\t\t\n",
    "\t\tformula_header = str(self)\n",
    "\t\tformula_len = max(5,len(formula_header))\n",
    "\t\theader = '{0}  #  {1: ^{2}}'.format('  '.join('{0: ^5}'.format(v) for v in vars), formula_header, formula_len)\n",
    "\t\tprint(header)\n",
    "\t\tprint('#'*len(header))\n",
    "\t\t\n",
    "\t\tfor r in rows:\n",
    "\t\t\tvar_cols = '  '.join('{0: ^{1}}'.format(str(r[v]), max(5,len(v))) for v in vars)\n",
    "\t\t\tresult_col = '{0: ^{1}}'.format(str(self.avaliar(**r)), formula_len)\n",
    "\t\t\tprint('{0}  #  {1}'.format(var_cols, result_col)) \n",
    "\t\tprint()\n",
    "\tdef to_tree(self):\n",
    "\t\tfrom trees import ListTree\n",
    "\t\tresult = ListTree(value=str(self))\n",
    "\t\tfor c in self.children:\n",
    "\t\t\tresult.add_child_node(c.to_tree())\n",
    "\t\treturn result\n",
    "\tdef __and__(self,other):\n",
    "\t\tv = self.children if isinstance(self,And) else [self]\n",
    "\t\tw = other.children if isinstance(other,And) else [other]\n",
    "\t\treturn And(*(v+w))\n",
    "\tdef __rand__(self,other):\n",
    "\t\treturn cast_to_proposition(other) & self\n",
    "\tdef __or__(self,other):\n",
    "\t\tv = self.children if isinstance(self,Or) else [self]\n",
    "\t\tw = other.children if isinstance(other,Or) else [other]\n",
    "\t\treturn Or(*(v+w))\n",
    "\tdef __ror__(self,other):\n",
    "\t\treturn cast_to_proposition(other) | self\n",
    "\tdef __invert__(self):\n",
    "\t\treturn Not(self)\n",
    "\tdef __rshift__(self,other):\n",
    "\t\treturn Implica(self,other)\n",
    "\tdef __rrshift__(self,other):\n",
    "\t\treturn Implica(other,self)\n",
    "\tdef __lshift__(self,other):\n",
    "\t\treturn Implicadopor(self,other)\n",
    "\tdef __rlshift__(self,other):\n",
    "\t\treturn Implicadopor(other,self)\n",
    "\tdef disjuncao(self,other):\n",
    "\t\treturn self | other\n",
    "\tdef conjuncao(self,other):\n",
    "\t\treturn self & other\n",
    "\tdef negacao(self):\n",
    "\t\treturn ~self\n",
    "\tdef implica(self,other):\n",
    "\t\treturn self >> other\n",
    "\tdef implicadopor(self,other):\n",
    "\t\treturn self << other\n",
    "\tdef iff(self,other):\n",
    "\t\treturn Iff(self,other)\n",
    "\tdef e_tautologia(self):\n",
    "\t\treturn all( self.avaliar(**r) for r in tabela_verdade_linhas(self.variaveis()) )\n",
    "\tdef e_contradicao(self):\n",
    "\t\treturn all( not self.avaliar(**r) for r in tabela_verdade_linhas(self.variaveis()) )\n",
    "\tdef e_contingencia(self):\n",
    "\t\treturn not self.e_tautologia() and not self.e_contradicao()\n",
    "\tdef __eq__(self,other):\n",
    "\t\treturn self.e_equivalente(other)\n",
    "\tdef e_equivalente(self,other):\n",
    "\t\tother = cast_to_proposition(other)\n",
    "\t\treturn all( self.avaliar(**r) == other.avaliar(**r) for r in tabela_verdade_linhas(self.variaveis() | other.variaveis()) )\n",
    "\tdef e_identico(self,other):\n",
    "\t\treturn self.__class__ == other.__class__ \\\n",
    "\t\t\tand len(self.children) == len(other.children) \\\n",
    "\t\t\tand all( c.e_identico(d) for (c,d) in zip(self.children,other.children) )\n",
    "\tdef substitui(self, e1, e2):\n",
    "\t\tif self.e_identico(e1):\n",
    "\t\t\treturn e2\n",
    "\t\telse:\n",
    "\t\t\treturn self.__class__( *[c.substitui(e1,e2) for c in self.children] )\n",
    "#\n",
    "\n",
    "class Constante(Proposicao):\n",
    "\tdef __init__(self,value):\n",
    "\t\tself.children = []\n",
    "\t\tself.value = bool(value)\n",
    "\tdef substitui(self, e1, e2):\n",
    "\t\treturn Constante(self.value)\n",
    "\tdef __str__(self):\n",
    "\t\treturn str(self.value)\n",
    "\tdef avaliar(self, **assignments):\n",
    "\t\treturn self.value\n",
    "\tdef e_identico(self,other):\n",
    "\t\treturn isinstance(other, Constante) and self.value == other.value\n",
    "#\n",
    "\n",
    "class Variavel(Proposicao):\n",
    "\tdef __init__(self,name):\n",
    "\t\tself.children = []\n",
    "\t\tself.name = name\n",
    "\tdef substitui(self, e1, e2):\n",
    "\t\tif self.e_identico(e1):\n",
    "\t\t\treturn e2\n",
    "\t\telse:\n",
    "\t\t\treturn Variavel(self.name)\n",
    "\tdef variaveis(self):\n",
    "\t\treturn frozenset({ self.name })\n",
    "\tdef __str__(self):\n",
    "\t\treturn self.name\n",
    "\tdef avaliar(self, **assignments):\n",
    "\t\treturn assignments[self.name]\n",
    "\tdef e_identico(self,other):\n",
    "\t\treturn isinstance(other, Variavel) and self.name == other.name\n",
    "#\n",
    "\n",
    "class Not(Proposicao):\n",
    "\tdef __init__(self,child):\n",
    "\t\tProposicao.__init__(self,child)\n",
    "\tdef __str__(self):\n",
    "\t\treturn u'¬{0}'.format(self.children[0].child_str()) \n",
    "\tdef avaliar(self, **assignments):\n",
    "\t\treturn not self.children[0].avaliar(**assignments)\n",
    "#\n",
    "\n",
    "class And(Proposicao):\n",
    "\tsymbol = ' ^ '\n",
    "\tempty_str = 'True'\n",
    "\tdef avaliar(self, **assignments):\n",
    "\t\treturn all( child.avaliar(**assignments) for child in self.children )\n",
    "#\n",
    "\n",
    "class Or(Proposicao):\n",
    "\tsymbol = ' v '\n",
    "\tempty_str = 'False'\n",
    "\tdef avaliar(self, **assignments):\n",
    "\t\treturn any( child.avaliar(**assignments) for child in self.children )\n",
    "#\n",
    "\n",
    "class Implica(Proposicao):\n",
    "\tsymbol = ' => '\n",
    "\tdef __init__(self,child1,child2):\n",
    "\t\tProposicao.__init__(self,child1,child2)\n",
    "\tdef avaliar(self, **assignments):\n",
    "\t\tif self.children[0].avaliar(**assignments):\n",
    "\t\t\treturn self.children[1].avaliar(**assignments)\n",
    "\t\telse:\n",
    "\t\t\treturn True\n",
    "#\n",
    "\n",
    "class Implicadopor(Proposicao):\n",
    "\tsymbol = ' <= '\n",
    "\tdef __init__(self,child1,child2):\n",
    "\t\tProposicao.__init__(self,child1,child2)\n",
    "\tdef avaliar(self, **assignments):\n",
    "\t\tif self.children[1].avaliar(**assignments):\n",
    "\t\t\treturn self.children[0].avaliar(**assignments)\n",
    "\t\telse:\n",
    "\t\t\treturn True\n",
    "#\n",
    "\n",
    "class Iff(Proposicao):\n",
    "\tsymbol = ' <=> '\n",
    "\tdef __init__(self,child1,child2):\n",
    "\t\tProposicao.__init__(self,child1,child2)\n",
    "\tdef avaliar(self, **assignments):\n",
    "\t\treturn self.children[0].avaliar(**assignments) == self.children[1].avaliar(**assignments)\n",
    "#\n",
    "\n",
    "class ArgumentForm:\n",
    "\tdef __init__(self, *premises, conclusion):\n",
    "\t\tself.premises = [ cast_to_proposition(c) for c in premises ]\n",
    "\t\tself.conclusion = cast_to_proposition(conclusion)\n",
    "\tdef variaveis(self):\n",
    "\t\treturn frozenset.union(self.conclusion.variaveis(), *[ c.variaveis() for c in self.premises ])\n",
    "\tdef __repr__(self):\n",
    "\t\treturn 'ArgumentForm( {0} )'.format(self)\n",
    "\tdef __str__(self):\n",
    "\t\treturn ((', '.join(str(c) for c in self.premises) + ', ') if self.premises else '') + 'conclusion = ' + str(self.conclusion)\n",
    "\tdef print_tabela_verdade(self):\n",
    "\t\tvars = sorted( self.variaveis() )\n",
    "\t\trows = tabela_verdade_linhas(vars)\n",
    "\t\t\n",
    "\t\tvar_strings = [ '{0: ^5}'.format(v) for v in vars ]\n",
    "\t\tpremise_strings = [ '{0: ^6}'.format(str(c)) for c in self.premises ]\n",
    "\t\tconclusion_string = '{0: ^10}'.format(str(self.conclusion))\n",
    "\t\tvars_header = '  '.join(var_strings)\n",
    "\t\tpremises_header = '{0: ^8}'.format('   '.join(premise_strings))\n",
    "\t\tprint('{0}  #  {1: ^{2}}  #  {3: ^{4}}'.format(' '*len(vars_header), 'premises', len(premises_header), 'conclusion', len(conclusion_string)))\n",
    "\t\theader = '{0}  #  {1: ^8}  #  {2}'.format(vars_header, premises_header, conclusion_string)\n",
    "\t\tprint(header)\n",
    "\t\tprint('#'*len(header))\n",
    "\t\t\n",
    "\t\tfor r in rows:\n",
    "\t\t\tpremise_values = [ c.avaliar(**r) for c in self.premises ]\n",
    "\t\t\tconclusion_value = self.conclusion.avaliar(**r)\n",
    "\t\t\tstar = '*' if all( v for v in premise_values ) else ''\n",
    "\t\t\tvar_cols = '  '.join( '{0: ^{1}}'.format(str(r[v]), len(k)) for (k,v) in zip(var_strings, vars) )\n",
    "\t\t\tpremise_cols = '   '.join( '{0: ^{1}}'.format(str(v)+star, len(k)) for (k,v) in zip(premise_strings, premise_values) )\n",
    "\t\t\tconclusion_col = '{0: ^{1}}'.format(str(conclusion_value)+star, len(conclusion_string))\n",
    "\t\t\tprint('{0}  #  {1: ^8}  #  {2}'.format(var_cols, premise_cols, conclusion_col))\n",
    "\t\tprint()\n",
    "\tdef e_valido(self):\n",
    "\t\tvars = (frozenset.union(*[ c.variaveis() for c in self.premises ]) if self.premises else frozenset()) | self.conclusion.variaveis()\n",
    "\t\treturn all( self.conclusion.avaliar(**r) for r in tabela_verdade_linhas(vars) if all( c.avaliar(**r) for c in self.premises ) )\n",
    "\tdef substitui(self, e1, e2):\n",
    "\t\treturn ArgumentForm( *[ c.substitui(e1,e2) for c in self.premises ], conclusion = self.conclusion.substitui(e1,e2) )\n",
    "#"
   ]
  },
  {
   "cell_type": "code",
   "execution_count": null,
   "metadata": {
    "id": "NuT5ep8IRxIJ"
   },
   "outputs": [],
   "source": [
    "# Could not use => or ->, it gets the error \"Code is unreachable. Statements must be separated by newlines or semicolons\"."
   ]
  },
  {
   "cell_type": "code",
   "execution_count": null,
   "metadata": {
    "colab": {
     "base_uri": "https://localhost:8080/"
    },
    "id": "QkV0EBn2HVZO",
    "outputId": "32a42170-2acb-4ab7-91a4-d078393f1839"
   },
   "outputs": [
    {
     "name": "stdout",
     "output_type": "stream",
     "text": [
      "  P      Q    #  ((P v Q) ^ ¬P) => Q\n",
      "####################################\n",
      "True   True   #         True        \n",
      "True   False  #         True        \n",
      "False  True   #         True        \n",
      "False  False  #         True        \n",
      "\n"
     ]
    }
   ],
   "source": [
    "P, Q, R  = vars('P', 'Q', 'R')\n",
    "\n",
    "Proposicao(P)\n",
    "Proposicao(Q)\n",
    "Proposicao(R)\n",
    "\n",
    "formula1 = ((P | Q) & ~P) >> Q\n",
    "formula1.print_tabela_verdade()"
   ]
  },
  {
   "cell_type": "code",
   "execution_count": null,
   "metadata": {
    "colab": {
     "base_uri": "https://localhost:8080/"
    },
    "id": "mZRxybw4M2xz",
    "outputId": "6464ac9a-9b34-4fa3-ab8c-800162e6f1e7"
   },
   "outputs": [
    {
     "data": {
      "text/plain": [
       "True"
      ]
     },
     "execution_count": 99,
     "metadata": {},
     "output_type": "execute_result"
    }
   ],
   "source": [
    "formula1.e_tautologia()"
   ]
  },
  {
   "cell_type": "code",
   "execution_count": null,
   "metadata": {
    "id": "qeF5RnlfM12V"
   },
   "outputs": [],
   "source": [
    "formula2 = (P & Q) >> R\n",
    "formula3 = P >>(Q >> R)"
   ]
  },
  {
   "cell_type": "code",
   "execution_count": null,
   "metadata": {
    "colab": {
     "base_uri": "https://localhost:8080/"
    },
    "id": "L_sUERWKNBAJ",
    "outputId": "d1e2b2cc-8141-4b86-c195-0d74849ba080"
   },
   "outputs": [
    {
     "name": "stdout",
     "output_type": "stream",
     "text": [
      "  P      Q      R    #  (P ^ Q) => R\n",
      "####################################\n",
      "True   True   True   #      True    \n",
      "True   True   False  #     False    \n",
      "True   False  True   #      True    \n",
      "True   False  False  #      True    \n",
      "False  True   True   #      True    \n",
      "False  True   False  #      True    \n",
      "False  False  True   #      True    \n",
      "False  False  False  #      True    \n",
      "\n"
     ]
    }
   ],
   "source": [
    "formula2.print_tabela_verdade()"
   ]
  },
  {
   "cell_type": "code",
   "execution_count": null,
   "metadata": {
    "colab": {
     "base_uri": "https://localhost:8080/"
    },
    "id": "PwFqZg0nNTtq",
    "outputId": "8725f2ed-02c1-43ff-a5c6-712bd6224bde"
   },
   "outputs": [
    {
     "data": {
      "text/plain": [
       "True"
      ]
     },
     "execution_count": 102,
     "metadata": {},
     "output_type": "execute_result"
    }
   ],
   "source": [
    "formula2 == formula3"
   ]
  },
  {
   "cell_type": "code",
   "execution_count": null,
   "metadata": {
    "colab": {
     "base_uri": "https://localhost:8080/"
    },
    "id": "vtSPKPdONWil",
    "outputId": "01c939ea-bfcc-4ef1-940f-cff82712a7a6"
   },
   "outputs": [
    {
     "data": {
      "text/plain": [
       "Proposicao( P ^ Q )"
      ]
     },
     "execution_count": 103,
     "metadata": {},
     "output_type": "execute_result"
    }
   ],
   "source": [
    "P & Q"
   ]
  },
  {
   "cell_type": "code",
   "execution_count": null,
   "metadata": {
    "colab": {
     "base_uri": "https://localhost:8080/"
    },
    "id": "uReIlBFFNXq6",
    "outputId": "b9e83360-0cf8-4ddd-fa31-34b460bb9802"
   },
   "outputs": [
    {
     "data": {
      "text/plain": [
       "Proposicao( P v Q )"
      ]
     },
     "execution_count": 104,
     "metadata": {},
     "output_type": "execute_result"
    }
   ],
   "source": [
    "P | Q"
   ]
  },
  {
   "cell_type": "code",
   "execution_count": null,
   "metadata": {
    "colab": {
     "base_uri": "https://localhost:8080/"
    },
    "id": "h92gvq5YNZjz",
    "outputId": "3e8b3302-d52e-4a8a-d871-dc8f26463205"
   },
   "outputs": [
    {
     "data": {
      "text/plain": [
       "Proposicao( P => Q )"
      ]
     },
     "execution_count": 105,
     "metadata": {},
     "output_type": "execute_result"
    }
   ],
   "source": [
    "P >> Q"
   ]
  },
  {
   "cell_type": "code",
   "execution_count": null,
   "metadata": {
    "colab": {
     "base_uri": "https://localhost:8080/"
    },
    "id": "GsVrbkzXNdxy",
    "outputId": "2a6c1367-6ea3-42a7-8d19-c228d960502e"
   },
   "outputs": [
    {
     "data": {
      "text/plain": [
       "Proposicao( P <= Q )"
      ]
     },
     "execution_count": 106,
     "metadata": {},
     "output_type": "execute_result"
    }
   ],
   "source": [
    "P << Q"
   ]
  },
  {
   "cell_type": "code",
   "execution_count": null,
   "metadata": {
    "colab": {
     "base_uri": "https://localhost:8080/"
    },
    "id": "VrXd6_lRNjNw",
    "outputId": "de15424f-de6c-4717-9c46-1de6eced86a4"
   },
   "outputs": [
    {
     "data": {
      "text/plain": [
       "Proposicao( P <=> Q )"
      ]
     },
     "execution_count": 107,
     "metadata": {},
     "output_type": "execute_result"
    }
   ],
   "source": [
    "P.iff(Q)"
   ]
  },
  {
   "cell_type": "code",
   "execution_count": null,
   "metadata": {
    "colab": {
     "base_uri": "https://localhost:8080/"
    },
    "id": "pia_bAP0NnE7",
    "outputId": "9c83bf8f-ad8d-47b0-f575-1f6d8c5ea36e"
   },
   "outputs": [
    {
     "data": {
      "text/plain": [
       "True"
      ]
     },
     "execution_count": 108,
     "metadata": {},
     "output_type": "execute_result"
    }
   ],
   "source": [
    "# Contradição\n",
    "(P & ~P).e_contradicao()"
   ]
  },
  {
   "cell_type": "code",
   "execution_count": null,
   "metadata": {
    "colab": {
     "base_uri": "https://localhost:8080/"
    },
    "id": "CGuoDPwFO4o7",
    "outputId": "1550fdce-0ef4-438d-d37f-59964c7ca9b8"
   },
   "outputs": [
    {
     "data": {
      "text/plain": [
       "False"
      ]
     },
     "execution_count": 109,
     "metadata": {},
     "output_type": "execute_result"
    }
   ],
   "source": [
    "(P & ~P).e_contingencia()"
   ]
  },
  {
   "cell_type": "markdown",
   "metadata": {
    "id": "L-1LvaEbwCvp"
   },
   "source": [
    "# Exercícios"
   ]
  },
  {
   "cell_type": "markdown",
   "metadata": {
    "id": "u3ZP3lBs0Wi7"
   },
   "source": [
    "### EXERCÍCIO 1: \n",
    "\n",
    "Construa as tabelas verdades das fórmulas ``(p=>q)=>r`` e ``p=>(q=>r)``. Elas são equivalentes?\n",
    "\n",
    "*ref: gomide página 36 Exercício 3.4*"
   ]
  },
  {
   "cell_type": "code",
   "execution_count": null,
   "metadata": {
    "id": "s8BwPiDRwEED"
   },
   "outputs": [],
   "source": [
    "P, Q, R  = vars('P', 'Q', 'R')\n",
    "\n",
    "Proposicao(P)\n",
    "Proposicao(Q)\n",
    "Proposicao(R)\n",
    "\n",
    "formula1 = (P>>Q)>>R\n",
    "formula2 = P>>(Q>>R)\n",
    "\n"
   ]
  },
  {
   "cell_type": "code",
   "execution_count": null,
   "metadata": {
    "colab": {
     "base_uri": "https://localhost:8080/"
    },
    "id": "d5FmtGwLwi_0",
    "outputId": "52aa6f51-464b-425b-8f62-2f67d99055ed"
   },
   "outputs": [
    {
     "name": "stdout",
     "output_type": "stream",
     "text": [
      "  P      Q      R    #  (P => Q) => R\n",
      "#####################################\n",
      "True   True   True   #      True     \n",
      "True   True   False  #      False    \n",
      "True   False  True   #      True     \n",
      "True   False  False  #      True     \n",
      "False  True   True   #      True     \n",
      "False  True   False  #      False    \n",
      "False  False  True   #      True     \n",
      "False  False  False  #      False    \n",
      "\n"
     ]
    }
   ],
   "source": [
    "formula1.print_tabela_verdade()"
   ]
  },
  {
   "cell_type": "code",
   "execution_count": null,
   "metadata": {
    "colab": {
     "base_uri": "https://localhost:8080/"
    },
    "id": "C1QxtaJAwj9Z",
    "outputId": "e6721ec0-8fb7-48d7-fd1a-3719ccd5aef3"
   },
   "outputs": [
    {
     "name": "stdout",
     "output_type": "stream",
     "text": [
      "  P      Q      R    #  P => (Q => R)\n",
      "#####################################\n",
      "True   True   True   #      True     \n",
      "True   True   False  #      False    \n",
      "True   False  True   #      True     \n",
      "True   False  False  #      True     \n",
      "False  True   True   #      True     \n",
      "False  True   False  #      True     \n",
      "False  False  True   #      True     \n",
      "False  False  False  #      True     \n",
      "\n"
     ]
    }
   ],
   "source": [
    "formula2.print_tabela_verdade()"
   ]
  },
  {
   "cell_type": "code",
   "execution_count": null,
   "metadata": {
    "colab": {
     "base_uri": "https://localhost:8080/"
    },
    "id": "5xYxm2Qyw4Ft",
    "outputId": "d409d0c9-3596-43ad-fce1-4fb166f912b6"
   },
   "outputs": [
    {
     "name": "stdout",
     "output_type": "stream",
     "text": [
      "As proposições são equivalente? False\n"
     ]
    }
   ],
   "source": [
    "print(\"As proposições são equivalente?\", formula1 == formula2)"
   ]
  },
  {
   "cell_type": "markdown",
   "metadata": {
    "id": "uANJ35Yn0Tcj"
   },
   "source": [
    "### EXERCÍCIO 2: \n",
    "Construa a tabela verdade das proposições abaixo e determine se são tautologia, contradição ou nem uma nem outra.\n",
    "\n",
    "1. ``(p^¬q)<=>(p=>q)``\n",
    "2. ``¬p <=>p ``\n",
    "3. ``(p^¬p)=>q``\n",
    "\n",
    "*ref: Gomide página 39, exercício 3.16*"
   ]
  },
  {
   "cell_type": "code",
   "execution_count": null,
   "metadata": {
    "id": "awgxC7Qxy7YG"
   },
   "outputs": [],
   "source": [
    "P, Q, R  = vars('P', 'Q', 'R')\n",
    "\n",
    "Proposicao(P)\n",
    "Proposicao(Q)\n",
    "Proposicao(R)\n",
    "\n",
    "#Item 1\n",
    "formula1 = (P&~Q).iff(P>>Q)\n",
    "\n",
    "#Item 2 \n",
    "formula2 = (~P).iff(P)\n",
    "\n",
    "#Item 3\n",
    "formula3 = (P&~P)>>Q"
   ]
  },
  {
   "cell_type": "code",
   "execution_count": null,
   "metadata": {
    "colab": {
     "base_uri": "https://localhost:8080/"
    },
    "id": "eMhnk8Qvz6V8",
    "outputId": "31f40131-f7cf-4b49-f137-c4a44027def0"
   },
   "outputs": [
    {
     "name": "stdout",
     "output_type": "stream",
     "text": [
      "Tabela verdade:\n",
      "\n",
      "  P      Q    #  (P ^ ¬Q) <=> (P => Q)\n",
      "######################################\n",
      "True   True   #          False        \n",
      "True   False  #          False        \n",
      "False  True   #          False        \n",
      "False  False  #          False        \n",
      "\n",
      "É tautologia? False\n",
      "É contradição? True\n"
     ]
    }
   ],
   "source": [
    "#Item 1\n",
    "print(\"Tabela verdade:\\n\")\n",
    "formula1.print_tabela_verdade()\n",
    "print(\"É tautologia?\",formula1.e_tautologia())\n",
    "print(\"É contradição?\",formula1.e_contradicao())"
   ]
  },
  {
   "cell_type": "code",
   "execution_count": null,
   "metadata": {
    "colab": {
     "base_uri": "https://localhost:8080/"
    },
    "id": "8i4Fw0A954Fw",
    "outputId": "6f779745-9046-4afe-b9f3-cbdcbdf39124"
   },
   "outputs": [
    {
     "name": "stdout",
     "output_type": "stream",
     "text": [
      "Tabela verdade:\n",
      "\n",
      "  P    #  ¬P <=> P\n",
      "##################\n",
      "True   #   False  \n",
      "False  #   False  \n",
      "\n",
      "É tautologia? False\n",
      "É contradição? True\n"
     ]
    }
   ],
   "source": [
    "#Item 2\n",
    "print(\"Tabela verdade:\\n\")\n",
    "formula2.print_tabela_verdade()\n",
    "print(\"É tautologia?\",formula2.e_tautologia())\n",
    "print(\"É contradição?\",formula2.e_contradicao())"
   ]
  },
  {
   "cell_type": "code",
   "execution_count": null,
   "metadata": {
    "colab": {
     "base_uri": "https://localhost:8080/"
    },
    "id": "9H6If8xX6BsH",
    "outputId": "67d5e878-c36e-42af-e854-453a71dccc8e"
   },
   "outputs": [
    {
     "name": "stdout",
     "output_type": "stream",
     "text": [
      "Tabela verdade:\n",
      "\n",
      "  P      Q    #  (P ^ ¬P) => Q\n",
      "##############################\n",
      "True   True   #      True     \n",
      "True   False  #      True     \n",
      "False  True   #      True     \n",
      "False  False  #      True     \n",
      "\n",
      "É tautologia? True\n",
      "É contradição? False\n"
     ]
    }
   ],
   "source": [
    "#Item 3\n",
    "print(\"Tabela verdade:\\n\")\n",
    "formula3.print_tabela_verdade()\n",
    "print(\"É tautologia?\",formula3.e_tautologia())\n",
    "print(\"É contradição?\",formula3.e_contradicao())"
   ]
  },
  {
   "cell_type": "markdown",
   "metadata": {
    "id": "0JUDCQT203kh"
   },
   "source": [
    "### Exercício 3: \n",
    "\n",
    "Verifique se as seguintes afirmações são corretas:\n",
    "\n",
    "1. ``(¬p^(pVq))`` é logicamente equivalente a ``q``.\n",
    "2. ``p=>(q^r)`` é logicamente equivalente a ``(p=>q)^(p=>r)``.\n",
    "3. ``((p=>q)=>r)`` é logicamente equivalente a ``(p=>(q=>r))``.\n",
    "\n",
    "*ref: Gomide página 41, exercício 3.19*"
   ]
  },
  {
   "cell_type": "code",
   "execution_count": null,
   "metadata": {
    "id": "HpOgKOMZ2Ju6"
   },
   "outputs": [],
   "source": [
    "P, Q, R  = vars('P', 'Q', 'R')\n",
    "\n",
    "Proposicao(P)\n",
    "Proposicao(Q)\n",
    "Proposicao(R)\n",
    "\n",
    "#Item 1\n",
    "formula1 = (~P&(P | Q))\n",
    "\n",
    "#Item 2\n",
    "formula2 = P>>(Q&R) \n",
    "formula3 = (P>>Q)&(P>>R)\n",
    "\n",
    "#Item 3\n",
    "formula4 = ((P>>Q)>>R)\n",
    "formula5 = (P>>(Q>>R))"
   ]
  },
  {
   "cell_type": "code",
   "execution_count": null,
   "metadata": {
    "colab": {
     "base_uri": "https://localhost:8080/"
    },
    "id": "bfP5t_Fe4Od1",
    "outputId": "6e01eaba-08c2-4d94-aa3f-769b0ade2d74"
   },
   "outputs": [
    {
     "name": "stdout",
     "output_type": "stream",
     "text": [
      "São equivalentes? False\n"
     ]
    }
   ],
   "source": [
    "#Item 1\n",
    "print(\"São equivalentes?\", formula1 == Q)"
   ]
  },
  {
   "cell_type": "code",
   "execution_count": null,
   "metadata": {
    "colab": {
     "base_uri": "https://localhost:8080/"
    },
    "id": "iNPCy2d94SUk",
    "outputId": "b1ca4244-7370-406f-e8d2-7f1f1bc00d54"
   },
   "outputs": [
    {
     "name": "stdout",
     "output_type": "stream",
     "text": [
      "São equivalentes? True\n"
     ]
    }
   ],
   "source": [
    "#Item 2\n",
    "print(\"São equivalentes?\", formula2 == formula3)"
   ]
  },
  {
   "cell_type": "code",
   "execution_count": null,
   "metadata": {
    "colab": {
     "base_uri": "https://localhost:8080/"
    },
    "id": "WfkRNwGz4Wsr",
    "outputId": "32792f32-fa39-460c-97b9-42f94ab517a3"
   },
   "outputs": [
    {
     "name": "stdout",
     "output_type": "stream",
     "text": [
      "São equivalentes? False\n"
     ]
    }
   ],
   "source": [
    "#Item 3\n",
    "print(\"São equivalentes?\", formula4 == formula5)"
   ]
  }
 ],
 "metadata": {
  "colab": {
   "name": "Lógica proposicional.ipynb",
   "provenance": []
  },
  "kernelspec": {
   "display_name": "Python 3 (ipykernel)",
   "language": "python",
   "name": "python3"
  },
  "language_info": {
   "codemirror_mode": {
    "name": "ipython",
    "version": 3
   },
   "file_extension": ".py",
   "mimetype": "text/x-python",
   "name": "python",
   "nbconvert_exporter": "python",
   "pygments_lexer": "ipython3",
   "version": "3.11.8"
  }
 },
 "nbformat": 4,
 "nbformat_minor": 4
}
